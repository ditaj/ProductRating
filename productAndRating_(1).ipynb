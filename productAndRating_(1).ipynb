{
  "nbformat": 4,
  "nbformat_minor": 0,
  "metadata": {
    "colab": {
      "name": "productAndRating (1).ipynb",
      "provenance": [],
      "collapsed_sections": []
    },
    "kernelspec": {
      "name": "python3",
      "display_name": "Python 3"
    },
    "language_info": {
      "name": "python"
    }
  },
  "cells": [
    {
      "cell_type": "code",
      "metadata": {
        "colab": {
          "base_uri": "https://localhost:8080/"
        },
        "id": "v6XPwNiYW329",
        "outputId": "2e857a10-932f-4cef-cc69-83f0a51be7c7"
      },
      "source": [
        "from google.colab import drive\n",
        "drive.mount('/content/drive')\n",
        "import os"
      ],
      "execution_count": 2,
      "outputs": [
        {
          "output_type": "stream",
          "name": "stdout",
          "text": [
            "Drive already mounted at /content/drive; to attempt to forcibly remount, call drive.mount(\"/content/drive\", force_remount=True).\n"
          ]
        }
      ]
    },
    {
      "cell_type": "code",
      "metadata": {
        "id": "Cinua8cZXBZH",
        "colab": {
          "base_uri": "https://localhost:8080/"
        },
        "outputId": "e246b050-dff8-4547-86c2-7f3dacb88b9e"
      },
      "source": [
        "path = \"/content/drive/MyDrive/Narasio/5. Products and ratings of fashion site/\"\n",
        "os.listdir(path)"
      ],
      "execution_count": 3,
      "outputs": [
        {
          "output_type": "execute_result",
          "data": {
            "text/plain": [
              "['product_fashion_ratings.db',\n",
              " 'Data Description Products and Ratings of Fashion Site.txt']"
            ]
          },
          "metadata": {},
          "execution_count": 3
        }
      ]
    },
    {
      "cell_type": "code",
      "metadata": {
        "id": "s17zaM9UYE1H"
      },
      "source": [
        "import sqlite3\n",
        "import pandas as pd\n",
        "import numpy as np\n",
        "from numpy import random\n",
        "from numpy import mean\n",
        "from numpy.random import seed\n",
        "import scipy.stats as stats\n",
        "from scipy.stats import ttest_1samp, ttest_ind\n",
        "\n",
        "# Library untuk visualisasi\n",
        "import seaborn as sns\n",
        "import matplotlib.pyplot as plt"
      ],
      "execution_count": 4,
      "outputs": []
    },
    {
      "cell_type": "code",
      "metadata": {
        "id": "r-0gTp2jXa9b"
      },
      "source": [
        "conn = sqlite3.connect(path + \"product_fashion_ratings.db\")\n",
        "cur = conn.cursor()"
      ],
      "execution_count": 5,
      "outputs": []
    },
    {
      "cell_type": "code",
      "metadata": {
        "id": "lKmHXRB4YQWm",
        "colab": {
          "base_uri": "https://localhost:8080/"
        },
        "outputId": "06849b0c-0f2b-4c81-d844-971d986d3e4c"
      },
      "source": [
        "cur.execute('''SELECT\n",
        "                NAME FROM\n",
        "                sqlite_master\n",
        "                WHERE\n",
        "                type='table'\n",
        "                ''')\n",
        "cur.fetchall()"
      ],
      "execution_count": 6,
      "outputs": [
        {
          "output_type": "execute_result",
          "data": {
            "text/plain": [
              "[('products',),\n",
              " ('brand_details',),\n",
              " ('main_categories',),\n",
              " ('sub_categories',),\n",
              " ('item_details',),\n",
              " ('events',)]"
            ]
          },
          "metadata": {},
          "execution_count": 6
        }
      ]
    },
    {
      "cell_type": "markdown",
      "metadata": {
        "id": "lBBvcqL6jMNm"
      },
      "source": [
        "Memunculkan head (5 data teratas) dari masing-masing tabel, dan memanggil data framenya"
      ]
    },
    {
      "cell_type": "code",
      "metadata": {
        "id": "pQD4-sc-YgJ6",
        "colab": {
          "base_uri": "https://localhost:8080/",
          "height": 110
        },
        "outputId": "4b8f91df-405d-4661-ef8f-9af303febdb4"
      },
      "source": [
        "df_products = pd.read_sql_query('''\n",
        "                                  SELECT * FROM products\n",
        "                                  ''', conn)\n",
        "df_products.head(2)"
      ],
      "execution_count": 7,
      "outputs": [
        {
          "output_type": "execute_result",
          "data": {
            "text/html": [
              "<div>\n",
              "<style scoped>\n",
              "    .dataframe tbody tr th:only-of-type {\n",
              "        vertical-align: middle;\n",
              "    }\n",
              "\n",
              "    .dataframe tbody tr th {\n",
              "        vertical-align: top;\n",
              "    }\n",
              "\n",
              "    .dataframe thead th {\n",
              "        text-align: right;\n",
              "    }\n",
              "</style>\n",
              "<table border=\"1\" class=\"dataframe\">\n",
              "  <thead>\n",
              "    <tr style=\"text-align: right;\">\n",
              "      <th></th>\n",
              "      <th>index</th>\n",
              "      <th>product_ID</th>\n",
              "      <th>product_name</th>\n",
              "    </tr>\n",
              "  </thead>\n",
              "  <tbody>\n",
              "    <tr>\n",
              "      <th>0</th>\n",
              "      <td>0</td>\n",
              "      <td>1</td>\n",
              "      <td>Chapeau à Visière Anti-UV pour Protection Solaire</td>\n",
              "    </tr>\n",
              "    <tr>\n",
              "      <th>1</th>\n",
              "      <td>1</td>\n",
              "      <td>2</td>\n",
              "      <td>Écharpe longue 180cm à pois en broderie pour f...</td>\n",
              "    </tr>\n",
              "  </tbody>\n",
              "</table>\n",
              "</div>"
            ],
            "text/plain": [
              "   index  product_ID                                       product_name\n",
              "0      0           1  Chapeau à Visière Anti-UV pour Protection Solaire\n",
              "1      1           2  Écharpe longue 180cm à pois en broderie pour f..."
            ]
          },
          "metadata": {},
          "execution_count": 7
        }
      ]
    },
    {
      "cell_type": "code",
      "metadata": {
        "id": "4ZDPJcfJbCCg",
        "colab": {
          "base_uri": "https://localhost:8080/",
          "height": 110
        },
        "outputId": "ba9f3b9d-a20c-446f-bc30-4472864ff0e4"
      },
      "source": [
        "df_brand_details = pd.read_sql_query('''\n",
        "                                        SELECT * FROM\n",
        "                                        brand_details\n",
        "                                      ''', conn)\n",
        "df_brand_details.head(2)"
      ],
      "execution_count": 8,
      "outputs": [
        {
          "output_type": "execute_result",
          "data": {
            "text/html": [
              "<div>\n",
              "<style scoped>\n",
              "    .dataframe tbody tr th:only-of-type {\n",
              "        vertical-align: middle;\n",
              "    }\n",
              "\n",
              "    .dataframe tbody tr th {\n",
              "        vertical-align: top;\n",
              "    }\n",
              "\n",
              "    .dataframe thead th {\n",
              "        text-align: right;\n",
              "    }\n",
              "</style>\n",
              "<table border=\"1\" class=\"dataframe\">\n",
              "  <thead>\n",
              "    <tr style=\"text-align: right;\">\n",
              "      <th></th>\n",
              "      <th>index</th>\n",
              "      <th>brand_ID</th>\n",
              "      <th>brand_name</th>\n",
              "      <th>brand_url</th>\n",
              "    </tr>\n",
              "  </thead>\n",
              "  <tbody>\n",
              "    <tr>\n",
              "      <th>0</th>\n",
              "      <td>0</td>\n",
              "      <td>1</td>\n",
              "      <td>Socofy-1</td>\n",
              "      <td>None</td>\n",
              "    </tr>\n",
              "    <tr>\n",
              "      <th>1</th>\n",
              "      <td>1</td>\n",
              "      <td>2</td>\n",
              "      <td>MEANBEAUTY</td>\n",
              "      <td>https://fr.newchic.com/meanbeauty-brand-1436.html</td>\n",
              "    </tr>\n",
              "  </tbody>\n",
              "</table>\n",
              "</div>"
            ],
            "text/plain": [
              "   index  ...                                          brand_url\n",
              "0      0  ...                                               None\n",
              "1      1  ...  https://fr.newchic.com/meanbeauty-brand-1436.html\n",
              "\n",
              "[2 rows x 4 columns]"
            ]
          },
          "metadata": {},
          "execution_count": 8
        }
      ]
    },
    {
      "cell_type": "code",
      "metadata": {
        "id": "edSsHhvwa6Ed",
        "colab": {
          "base_uri": "https://localhost:8080/",
          "height": 110
        },
        "outputId": "5d5e8a10-1941-45ef-fdbb-2c40531174e3"
      },
      "source": [
        "df_main_categories = pd.read_sql_query('''\n",
        "                                          SELECT * FROM\n",
        "                                          main_categories\n",
        "                                        ''', conn)\n",
        "df_main_categories.head(2)"
      ],
      "execution_count": 9,
      "outputs": [
        {
          "output_type": "execute_result",
          "data": {
            "text/html": [
              "<div>\n",
              "<style scoped>\n",
              "    .dataframe tbody tr th:only-of-type {\n",
              "        vertical-align: middle;\n",
              "    }\n",
              "\n",
              "    .dataframe tbody tr th {\n",
              "        vertical-align: top;\n",
              "    }\n",
              "\n",
              "    .dataframe thead th {\n",
              "        text-align: right;\n",
              "    }\n",
              "</style>\n",
              "<table border=\"1\" class=\"dataframe\">\n",
              "  <thead>\n",
              "    <tr style=\"text-align: right;\">\n",
              "      <th></th>\n",
              "      <th>index</th>\n",
              "      <th>category_ID</th>\n",
              "      <th>category_name</th>\n",
              "    </tr>\n",
              "  </thead>\n",
              "  <tbody>\n",
              "    <tr>\n",
              "      <th>0</th>\n",
              "      <td>0</td>\n",
              "      <td>1</td>\n",
              "      <td>accessories</td>\n",
              "    </tr>\n",
              "    <tr>\n",
              "      <th>1</th>\n",
              "      <td>1</td>\n",
              "      <td>2</td>\n",
              "      <td>bags</td>\n",
              "    </tr>\n",
              "  </tbody>\n",
              "</table>\n",
              "</div>"
            ],
            "text/plain": [
              "   index  category_ID category_name\n",
              "0      0            1   accessories\n",
              "1      1            2          bags"
            ]
          },
          "metadata": {},
          "execution_count": 9
        }
      ]
    },
    {
      "cell_type": "code",
      "metadata": {
        "id": "D8hmkxONcVNr",
        "colab": {
          "base_uri": "https://localhost:8080/",
          "height": 110
        },
        "outputId": "fa045166-e3a4-4ad8-eb37-30907f16019e"
      },
      "source": [
        "df_sub_categories = pd.read_sql_query('''\n",
        "                                        SELECT * FROM\n",
        "                                        sub_categories\n",
        "                                      ''', conn)\n",
        "df_sub_categories.head(2)                                  "
      ],
      "execution_count": 10,
      "outputs": [
        {
          "output_type": "execute_result",
          "data": {
            "text/html": [
              "<div>\n",
              "<style scoped>\n",
              "    .dataframe tbody tr th:only-of-type {\n",
              "        vertical-align: middle;\n",
              "    }\n",
              "\n",
              "    .dataframe tbody tr th {\n",
              "        vertical-align: top;\n",
              "    }\n",
              "\n",
              "    .dataframe thead th {\n",
              "        text-align: right;\n",
              "    }\n",
              "</style>\n",
              "<table border=\"1\" class=\"dataframe\">\n",
              "  <thead>\n",
              "    <tr style=\"text-align: right;\">\n",
              "      <th></th>\n",
              "      <th>index</th>\n",
              "      <th>subcategory_ID</th>\n",
              "      <th>subcategory_name</th>\n",
              "    </tr>\n",
              "  </thead>\n",
              "  <tbody>\n",
              "    <tr>\n",
              "      <th>0</th>\n",
              "      <td>0</td>\n",
              "      <td>1</td>\n",
              "      <td>Écriture &amp; Peinture</td>\n",
              "    </tr>\n",
              "    <tr>\n",
              "      <th>1</th>\n",
              "      <td>1</td>\n",
              "      <td>2</td>\n",
              "      <td>Épilateur</td>\n",
              "    </tr>\n",
              "  </tbody>\n",
              "</table>\n",
              "</div>"
            ],
            "text/plain": [
              "   index  subcategory_ID     subcategory_name\n",
              "0      0               1  Écriture & Peinture\n",
              "1      1               2            Épilateur"
            ]
          },
          "metadata": {},
          "execution_count": 10
        }
      ]
    },
    {
      "cell_type": "code",
      "metadata": {
        "id": "EHuE5f6Aclh1",
        "colab": {
          "base_uri": "https://localhost:8080/",
          "height": 110
        },
        "outputId": "c409c668-b8e4-4ec4-a589-cf9784de9a65"
      },
      "source": [
        "df_item_details = pd.read_sql_query('''\n",
        "                                      SELECT * FROM\n",
        "                                      item_details\n",
        "                                    ''', conn)\n",
        "df_item_details.head(2)"
      ],
      "execution_count": 11,
      "outputs": [
        {
          "output_type": "execute_result",
          "data": {
            "text/html": [
              "<div>\n",
              "<style scoped>\n",
              "    .dataframe tbody tr th:only-of-type {\n",
              "        vertical-align: middle;\n",
              "    }\n",
              "\n",
              "    .dataframe tbody tr th {\n",
              "        vertical-align: top;\n",
              "    }\n",
              "\n",
              "    .dataframe thead th {\n",
              "        text-align: right;\n",
              "    }\n",
              "</style>\n",
              "<table border=\"1\" class=\"dataframe\">\n",
              "  <thead>\n",
              "    <tr style=\"text-align: right;\">\n",
              "      <th></th>\n",
              "      <th>index</th>\n",
              "      <th>item_ID</th>\n",
              "      <th>product_ID</th>\n",
              "      <th>variation_0_color</th>\n",
              "      <th>variation_1_color</th>\n",
              "    </tr>\n",
              "  </thead>\n",
              "  <tbody>\n",
              "    <tr>\n",
              "      <th>0</th>\n",
              "      <td>0</td>\n",
              "      <td>1</td>\n",
              "      <td>1</td>\n",
              "      <td>Bleu ciel</td>\n",
              "      <td>Gris</td>\n",
              "    </tr>\n",
              "    <tr>\n",
              "      <th>1</th>\n",
              "      <td>1</td>\n",
              "      <td>2</td>\n",
              "      <td>2</td>\n",
              "      <td>armée verte</td>\n",
              "      <td>Bleu</td>\n",
              "    </tr>\n",
              "  </tbody>\n",
              "</table>\n",
              "</div>"
            ],
            "text/plain": [
              "   index  item_ID  product_ID variation_0_color variation_1_color\n",
              "0      0        1           1         Bleu ciel              Gris\n",
              "1      1        2           2       armée verte              Bleu"
            ]
          },
          "metadata": {},
          "execution_count": 11
        }
      ]
    },
    {
      "cell_type": "code",
      "metadata": {
        "id": "zj37CtCHc0fo",
        "colab": {
          "base_uri": "https://localhost:8080/",
          "height": 164
        },
        "outputId": "0113ed69-652e-4ff1-883c-25f5d9cea053"
      },
      "source": [
        "df_events = pd.read_sql_query('''\n",
        "                                SELECT * FROM\n",
        "                                events\n",
        "                              ''', conn)\n",
        "df_events.head(2)"
      ],
      "execution_count": 12,
      "outputs": [
        {
          "output_type": "execute_result",
          "data": {
            "text/html": [
              "<div>\n",
              "<style scoped>\n",
              "    .dataframe tbody tr th:only-of-type {\n",
              "        vertical-align: middle;\n",
              "    }\n",
              "\n",
              "    .dataframe tbody tr th {\n",
              "        vertical-align: top;\n",
              "    }\n",
              "\n",
              "    .dataframe thead th {\n",
              "        text-align: right;\n",
              "    }\n",
              "</style>\n",
              "<table border=\"1\" class=\"dataframe\">\n",
              "  <thead>\n",
              "    <tr style=\"text-align: right;\">\n",
              "      <th></th>\n",
              "      <th>index</th>\n",
              "      <th>ID</th>\n",
              "      <th>sku</th>\n",
              "      <th>image_url</th>\n",
              "      <th>url_area</th>\n",
              "      <th>product_ID</th>\n",
              "      <th>brand_ID</th>\n",
              "      <th>category_ID</th>\n",
              "      <th>subcategory_ID</th>\n",
              "      <th>item_ID</th>\n",
              "      <th>current_price</th>\n",
              "      <th>perc.discount</th>\n",
              "      <th>likes_count</th>\n",
              "      <th>is_new</th>\n",
              "      <th>codCountry</th>\n",
              "    </tr>\n",
              "  </thead>\n",
              "  <tbody>\n",
              "    <tr>\n",
              "      <th>0</th>\n",
              "      <td>0</td>\n",
              "      <td>27788</td>\n",
              "      <td>SKU585926</td>\n",
              "      <td>https://imgaz1.chiccdn.com/thumb/view/oaupload...</td>\n",
              "      <td>https://fr.newchic.com/loskii-wall-art-4619/p-...</td>\n",
              "      <td>4636</td>\n",
              "      <td>120</td>\n",
              "      <td>4</td>\n",
              "      <td>21</td>\n",
              "      <td>4677</td>\n",
              "      <td>21.48 USD</td>\n",
              "      <td>42.0</td>\n",
              "      <td>285</td>\n",
              "      <td>0</td>\n",
              "      <td>ID,MY,PH,SG,TH,VN</td>\n",
              "    </tr>\n",
              "    <tr>\n",
              "      <th>1</th>\n",
              "      <td>1</td>\n",
              "      <td>42560</td>\n",
              "      <td>SKU028546</td>\n",
              "      <td>https://imgaz1.chiccdn.com/thumb/view/oaupload...</td>\n",
              "      <td>https://fr.newchic.com/plus-size-blouses-and-s...</td>\n",
              "      <td>9862</td>\n",
              "      <td>396</td>\n",
              "      <td>9</td>\n",
              "      <td>98</td>\n",
              "      <td>10372</td>\n",
              "      <td>22.99 USD</td>\n",
              "      <td>65.0</td>\n",
              "      <td>147</td>\n",
              "      <td>0</td>\n",
              "      <td>ID,MY,PH,SG,TH,VN</td>\n",
              "    </tr>\n",
              "  </tbody>\n",
              "</table>\n",
              "</div>"
            ],
            "text/plain": [
              "   index     ID        sku  ... likes_count is_new         codCountry\n",
              "0      0  27788  SKU585926  ...         285      0  ID,MY,PH,SG,TH,VN\n",
              "1      1  42560  SKU028546  ...         147      0  ID,MY,PH,SG,TH,VN\n",
              "\n",
              "[2 rows x 15 columns]"
            ]
          },
          "metadata": {},
          "execution_count": 12
        }
      ]
    },
    {
      "cell_type": "markdown",
      "metadata": {
        "id": "67BsKFRDn-1m"
      },
      "source": [
        "# **Data Manipulation**\n"
      ]
    },
    {
      "cell_type": "code",
      "metadata": {
        "id": "nlvvZ8f0n97K",
        "colab": {
          "base_uri": "https://localhost:8080/"
        },
        "outputId": "b602cf57-f7ae-4f2c-d127-75a95683255f"
      },
      "source": [
        "# tabel main categories, tidak ada missing value\n",
        "df_main_categories.info()"
      ],
      "execution_count": 13,
      "outputs": [
        {
          "output_type": "stream",
          "name": "stdout",
          "text": [
            "<class 'pandas.core.frame.DataFrame'>\n",
            "RangeIndex: 9 entries, 0 to 8\n",
            "Data columns (total 3 columns):\n",
            " #   Column         Non-Null Count  Dtype \n",
            "---  ------         --------------  ----- \n",
            " 0   index          9 non-null      int64 \n",
            " 1   category_ID    9 non-null      int64 \n",
            " 2   category_name  9 non-null      object\n",
            "dtypes: int64(2), object(1)\n",
            "memory usage: 344.0+ bytes\n"
          ]
        }
      ]
    },
    {
      "cell_type": "code",
      "metadata": {
        "id": "62VblZW78XzI",
        "colab": {
          "base_uri": "https://localhost:8080/"
        },
        "outputId": "2d63904d-9364-4cbc-8542-6f3cfbc13261"
      },
      "source": [
        "# mengubah datatype category_ID menjadi string\n",
        "df_main_categories['category_ID'] = df_main_categories['category_ID'].astype(str)\n",
        "df_main_categories.info()"
      ],
      "execution_count": 14,
      "outputs": [
        {
          "output_type": "stream",
          "name": "stdout",
          "text": [
            "<class 'pandas.core.frame.DataFrame'>\n",
            "RangeIndex: 9 entries, 0 to 8\n",
            "Data columns (total 3 columns):\n",
            " #   Column         Non-Null Count  Dtype \n",
            "---  ------         --------------  ----- \n",
            " 0   index          9 non-null      int64 \n",
            " 1   category_ID    9 non-null      object\n",
            " 2   category_name  9 non-null      object\n",
            "dtypes: int64(1), object(2)\n",
            "memory usage: 344.0+ bytes\n"
          ]
        }
      ]
    },
    {
      "cell_type": "code",
      "metadata": {
        "id": "yiBqmKCFrUqf",
        "colab": {
          "base_uri": "https://localhost:8080/",
          "height": 49
        },
        "outputId": "e6af5ad3-a7ba-4262-90a5-6bbb53ab0daf"
      },
      "source": [
        "# pengecekan apakah terdapat duplicated values\n",
        "df_main_categories[df_main_categories[\"category_ID\"].duplicated(keep=False)]"
      ],
      "execution_count": 15,
      "outputs": [
        {
          "output_type": "execute_result",
          "data": {
            "text/html": [
              "<div>\n",
              "<style scoped>\n",
              "    .dataframe tbody tr th:only-of-type {\n",
              "        vertical-align: middle;\n",
              "    }\n",
              "\n",
              "    .dataframe tbody tr th {\n",
              "        vertical-align: top;\n",
              "    }\n",
              "\n",
              "    .dataframe thead th {\n",
              "        text-align: right;\n",
              "    }\n",
              "</style>\n",
              "<table border=\"1\" class=\"dataframe\">\n",
              "  <thead>\n",
              "    <tr style=\"text-align: right;\">\n",
              "      <th></th>\n",
              "      <th>index</th>\n",
              "      <th>category_ID</th>\n",
              "      <th>category_name</th>\n",
              "    </tr>\n",
              "  </thead>\n",
              "  <tbody>\n",
              "  </tbody>\n",
              "</table>\n",
              "</div>"
            ],
            "text/plain": [
              "Empty DataFrame\n",
              "Columns: [index, category_ID, category_name]\n",
              "Index: []"
            ]
          },
          "metadata": {},
          "execution_count": 15
        }
      ]
    },
    {
      "cell_type": "code",
      "metadata": {
        "id": "fMYCcHZSpGIp",
        "colab": {
          "base_uri": "https://localhost:8080/"
        },
        "outputId": "c1008ce1-b305-4d99-95c1-3e0116f2eed6"
      },
      "source": [
        "# tabel sub categories, tidak ada missing value\n",
        "df_sub_categories.info()"
      ],
      "execution_count": 16,
      "outputs": [
        {
          "output_type": "stream",
          "name": "stdout",
          "text": [
            "<class 'pandas.core.frame.DataFrame'>\n",
            "RangeIndex: 451 entries, 0 to 450\n",
            "Data columns (total 3 columns):\n",
            " #   Column            Non-Null Count  Dtype \n",
            "---  ------            --------------  ----- \n",
            " 0   index             451 non-null    int64 \n",
            " 1   subcategory_ID    451 non-null    int64 \n",
            " 2   subcategory_name  451 non-null    object\n",
            "dtypes: int64(2), object(1)\n",
            "memory usage: 10.7+ KB\n"
          ]
        }
      ]
    },
    {
      "cell_type": "code",
      "metadata": {
        "id": "UvkPrx7s9s9j",
        "colab": {
          "base_uri": "https://localhost:8080/"
        },
        "outputId": "5a12bc34-a3c0-42f4-d2d6-bde52f73c98e"
      },
      "source": [
        "# mengubah datatype subcategory_ID menjadi string\n",
        "df_sub_categories['subcategory_ID'] = df_sub_categories['subcategory_ID'].astype(str)\n",
        "df_sub_categories.info()"
      ],
      "execution_count": 17,
      "outputs": [
        {
          "output_type": "stream",
          "name": "stdout",
          "text": [
            "<class 'pandas.core.frame.DataFrame'>\n",
            "RangeIndex: 451 entries, 0 to 450\n",
            "Data columns (total 3 columns):\n",
            " #   Column            Non-Null Count  Dtype \n",
            "---  ------            --------------  ----- \n",
            " 0   index             451 non-null    int64 \n",
            " 1   subcategory_ID    451 non-null    object\n",
            " 2   subcategory_name  451 non-null    object\n",
            "dtypes: int64(1), object(2)\n",
            "memory usage: 10.7+ KB\n"
          ]
        }
      ]
    },
    {
      "cell_type": "code",
      "metadata": {
        "id": "Epe9SV6xrwT-",
        "colab": {
          "base_uri": "https://localhost:8080/",
          "height": 49
        },
        "outputId": "d77302e6-d298-4281-9079-b8628b393058"
      },
      "source": [
        "# pengecekan apakah terdapat duplicated values\n",
        "df_sub_categories[df_sub_categories[\"subcategory_ID\"].duplicated(keep=False)]"
      ],
      "execution_count": 18,
      "outputs": [
        {
          "output_type": "execute_result",
          "data": {
            "text/html": [
              "<div>\n",
              "<style scoped>\n",
              "    .dataframe tbody tr th:only-of-type {\n",
              "        vertical-align: middle;\n",
              "    }\n",
              "\n",
              "    .dataframe tbody tr th {\n",
              "        vertical-align: top;\n",
              "    }\n",
              "\n",
              "    .dataframe thead th {\n",
              "        text-align: right;\n",
              "    }\n",
              "</style>\n",
              "<table border=\"1\" class=\"dataframe\">\n",
              "  <thead>\n",
              "    <tr style=\"text-align: right;\">\n",
              "      <th></th>\n",
              "      <th>index</th>\n",
              "      <th>subcategory_ID</th>\n",
              "      <th>subcategory_name</th>\n",
              "    </tr>\n",
              "  </thead>\n",
              "  <tbody>\n",
              "  </tbody>\n",
              "</table>\n",
              "</div>"
            ],
            "text/plain": [
              "Empty DataFrame\n",
              "Columns: [index, subcategory_ID, subcategory_name]\n",
              "Index: []"
            ]
          },
          "metadata": {},
          "execution_count": 18
        }
      ]
    },
    {
      "cell_type": "code",
      "metadata": {
        "id": "1uc-qw-upRqG",
        "colab": {
          "base_uri": "https://localhost:8080/"
        },
        "outputId": "20cbea57-c13a-4946-a16c-a8d2b0371734"
      },
      "source": [
        "# tabel products, tidak ada missing value\n",
        "df_products.info()"
      ],
      "execution_count": 19,
      "outputs": [
        {
          "output_type": "stream",
          "name": "stdout",
          "text": [
            "<class 'pandas.core.frame.DataFrame'>\n",
            "RangeIndex: 13313 entries, 0 to 13312\n",
            "Data columns (total 3 columns):\n",
            " #   Column        Non-Null Count  Dtype \n",
            "---  ------        --------------  ----- \n",
            " 0   index         13313 non-null  int64 \n",
            " 1   product_ID    13313 non-null  int64 \n",
            " 2   product_name  13313 non-null  object\n",
            "dtypes: int64(2), object(1)\n",
            "memory usage: 312.1+ KB\n"
          ]
        }
      ]
    },
    {
      "cell_type": "code",
      "metadata": {
        "id": "rd-alsKP98uf",
        "colab": {
          "base_uri": "https://localhost:8080/"
        },
        "outputId": "8fac5436-6694-4048-9fb2-68fe5606fb2f"
      },
      "source": [
        "# mengubah datatype product_ID menjadi string\n",
        "df_products['product_ID'] = df_products['product_ID'].astype(str)\n",
        "df_products.info()"
      ],
      "execution_count": 20,
      "outputs": [
        {
          "output_type": "stream",
          "name": "stdout",
          "text": [
            "<class 'pandas.core.frame.DataFrame'>\n",
            "RangeIndex: 13313 entries, 0 to 13312\n",
            "Data columns (total 3 columns):\n",
            " #   Column        Non-Null Count  Dtype \n",
            "---  ------        --------------  ----- \n",
            " 0   index         13313 non-null  int64 \n",
            " 1   product_ID    13313 non-null  object\n",
            " 2   product_name  13313 non-null  object\n",
            "dtypes: int64(1), object(2)\n",
            "memory usage: 312.1+ KB\n"
          ]
        }
      ]
    },
    {
      "cell_type": "code",
      "metadata": {
        "id": "Qn1Wiq9GsEcn",
        "colab": {
          "base_uri": "https://localhost:8080/",
          "height": 49
        },
        "outputId": "117f522a-ba92-4b7e-d0f7-bc94fe257166"
      },
      "source": [
        "# pengecekan apakah terdapat duplicated values\n",
        "df_products[df_products[\"product_ID\"].duplicated(keep=False)]"
      ],
      "execution_count": 21,
      "outputs": [
        {
          "output_type": "execute_result",
          "data": {
            "text/html": [
              "<div>\n",
              "<style scoped>\n",
              "    .dataframe tbody tr th:only-of-type {\n",
              "        vertical-align: middle;\n",
              "    }\n",
              "\n",
              "    .dataframe tbody tr th {\n",
              "        vertical-align: top;\n",
              "    }\n",
              "\n",
              "    .dataframe thead th {\n",
              "        text-align: right;\n",
              "    }\n",
              "</style>\n",
              "<table border=\"1\" class=\"dataframe\">\n",
              "  <thead>\n",
              "    <tr style=\"text-align: right;\">\n",
              "      <th></th>\n",
              "      <th>index</th>\n",
              "      <th>product_ID</th>\n",
              "      <th>product_name</th>\n",
              "    </tr>\n",
              "  </thead>\n",
              "  <tbody>\n",
              "  </tbody>\n",
              "</table>\n",
              "</div>"
            ],
            "text/plain": [
              "Empty DataFrame\n",
              "Columns: [index, product_ID, product_name]\n",
              "Index: []"
            ]
          },
          "metadata": {},
          "execution_count": 21
        }
      ]
    },
    {
      "cell_type": "code",
      "metadata": {
        "id": "vkZYduuBpYYl",
        "colab": {
          "base_uri": "https://localhost:8080/"
        },
        "outputId": "29c8d414-137e-4512-f67e-19ccd2d662e0"
      },
      "source": [
        "# tabel brand details, terdapat missing value\n",
        "df_brand_details.info()"
      ],
      "execution_count": 22,
      "outputs": [
        {
          "output_type": "stream",
          "name": "stdout",
          "text": [
            "<class 'pandas.core.frame.DataFrame'>\n",
            "RangeIndex: 419 entries, 0 to 418\n",
            "Data columns (total 4 columns):\n",
            " #   Column      Non-Null Count  Dtype \n",
            "---  ------      --------------  ----- \n",
            " 0   index       419 non-null    int64 \n",
            " 1   brand_ID    419 non-null    int64 \n",
            " 2   brand_name  419 non-null    object\n",
            " 3   brand_url   398 non-null    object\n",
            "dtypes: int64(2), object(2)\n",
            "memory usage: 13.2+ KB\n"
          ]
        }
      ]
    },
    {
      "cell_type": "code",
      "metadata": {
        "id": "OWO5noD4pj27",
        "colab": {
          "base_uri": "https://localhost:8080/"
        },
        "outputId": "6f74b924-d697-4b35-de02-97edcf329904"
      },
      "source": [
        "# terdapat 21 missing values pada kolom brand_url\n",
        "pd.isnull(df_brand_details).sum()"
      ],
      "execution_count": 23,
      "outputs": [
        {
          "output_type": "execute_result",
          "data": {
            "text/plain": [
              "index          0\n",
              "brand_ID       0\n",
              "brand_name     0\n",
              "brand_url     21\n",
              "dtype: int64"
            ]
          },
          "metadata": {},
          "execution_count": 23
        }
      ]
    },
    {
      "cell_type": "code",
      "metadata": {
        "id": "I1p7jHBhUvDx",
        "colab": {
          "base_uri": "https://localhost:8080/"
        },
        "outputId": "7ee26ca2-97d2-45b2-c57f-45f0ea4419a1"
      },
      "source": [
        "# karena brand_url memiliki 21/419 missing values dan dirasa tidak diperlukan, maka kolom akan di drop\n",
        "df_brand_details = df_brand_details.drop(['brand_url'], axis=1)\n",
        "pd.isnull(df_brand_details).sum()"
      ],
      "execution_count": 24,
      "outputs": [
        {
          "output_type": "execute_result",
          "data": {
            "text/plain": [
              "index         0\n",
              "brand_ID      0\n",
              "brand_name    0\n",
              "dtype: int64"
            ]
          },
          "metadata": {},
          "execution_count": 24
        }
      ]
    },
    {
      "cell_type": "code",
      "metadata": {
        "id": "oH5iJtVqWL1A",
        "colab": {
          "base_uri": "https://localhost:8080/"
        },
        "outputId": "7537d450-4798-45b1-e531-28cfeb1c2ce0"
      },
      "source": [
        "# mengubah datatype brand_ID menjadi string\n",
        "df_brand_details['brand_ID'] = df_brand_details['brand_ID'].astype(str)\n",
        "df_brand_details.info()"
      ],
      "execution_count": 25,
      "outputs": [
        {
          "output_type": "stream",
          "name": "stdout",
          "text": [
            "<class 'pandas.core.frame.DataFrame'>\n",
            "RangeIndex: 419 entries, 0 to 418\n",
            "Data columns (total 3 columns):\n",
            " #   Column      Non-Null Count  Dtype \n",
            "---  ------      --------------  ----- \n",
            " 0   index       419 non-null    int64 \n",
            " 1   brand_ID    419 non-null    object\n",
            " 2   brand_name  419 non-null    object\n",
            "dtypes: int64(1), object(2)\n",
            "memory usage: 9.9+ KB\n"
          ]
        }
      ]
    },
    {
      "cell_type": "code",
      "metadata": {
        "id": "dl4al5ajWVz_",
        "colab": {
          "base_uri": "https://localhost:8080/",
          "height": 49
        },
        "outputId": "246fcaf2-859d-4320-bc2f-5ab587159f9f"
      },
      "source": [
        "# pengecekan apakah terdapat duplicated values\n",
        "df_brand_details[df_brand_details.duplicated(keep=False)]"
      ],
      "execution_count": 26,
      "outputs": [
        {
          "output_type": "execute_result",
          "data": {
            "text/html": [
              "<div>\n",
              "<style scoped>\n",
              "    .dataframe tbody tr th:only-of-type {\n",
              "        vertical-align: middle;\n",
              "    }\n",
              "\n",
              "    .dataframe tbody tr th {\n",
              "        vertical-align: top;\n",
              "    }\n",
              "\n",
              "    .dataframe thead th {\n",
              "        text-align: right;\n",
              "    }\n",
              "</style>\n",
              "<table border=\"1\" class=\"dataframe\">\n",
              "  <thead>\n",
              "    <tr style=\"text-align: right;\">\n",
              "      <th></th>\n",
              "      <th>index</th>\n",
              "      <th>brand_ID</th>\n",
              "      <th>brand_name</th>\n",
              "    </tr>\n",
              "  </thead>\n",
              "  <tbody>\n",
              "  </tbody>\n",
              "</table>\n",
              "</div>"
            ],
            "text/plain": [
              "Empty DataFrame\n",
              "Columns: [index, brand_ID, brand_name]\n",
              "Index: []"
            ]
          },
          "metadata": {},
          "execution_count": 26
        }
      ]
    },
    {
      "cell_type": "code",
      "metadata": {
        "id": "ZXIrY1HEpp7E",
        "colab": {
          "base_uri": "https://localhost:8080/"
        },
        "outputId": "b223280b-d4e5-45e7-a0d4-f657934103af"
      },
      "source": [
        "# tabel item details, terdapat missing value\n",
        "df_item_details.info()"
      ],
      "execution_count": 27,
      "outputs": [
        {
          "output_type": "stream",
          "name": "stdout",
          "text": [
            "<class 'pandas.core.frame.DataFrame'>\n",
            "RangeIndex: 13989 entries, 0 to 13988\n",
            "Data columns (total 5 columns):\n",
            " #   Column             Non-Null Count  Dtype \n",
            "---  ------             --------------  ----- \n",
            " 0   index              13989 non-null  int64 \n",
            " 1   item_ID            13989 non-null  int64 \n",
            " 2   product_ID         13989 non-null  int64 \n",
            " 3   variation_0_color  11488 non-null  object\n",
            " 4   variation_1_color  9385 non-null   object\n",
            "dtypes: int64(3), object(2)\n",
            "memory usage: 546.6+ KB\n"
          ]
        }
      ]
    },
    {
      "cell_type": "code",
      "metadata": {
        "id": "J44uxX6bpvwU",
        "colab": {
          "base_uri": "https://localhost:8080/"
        },
        "outputId": "891aa1d8-eaa6-4df7-e6ad-98a29208f57b"
      },
      "source": [
        "# terdapat 2501/13989(17%) missing values pada kolom variation_0_color dan 4604/13989(32%) pada kolom variation_1_color\n",
        "hilang_var1 = pd.isnull(df_item_details).sum()\n",
        "rasio_var1 = hilang_var1.div(len(df_item_details))\n",
        "print(hilang_var1, rasio_var1)"
      ],
      "execution_count": 28,
      "outputs": [
        {
          "output_type": "stream",
          "name": "stdout",
          "text": [
            "index                   0\n",
            "item_ID                 0\n",
            "product_ID              0\n",
            "variation_0_color    2501\n",
            "variation_1_color    4604\n",
            "dtype: int64 index                0.000000\n",
            "item_ID              0.000000\n",
            "product_ID           0.000000\n",
            "variation_0_color    0.178783\n",
            "variation_1_color    0.329116\n",
            "dtype: float64\n"
          ]
        }
      ]
    },
    {
      "cell_type": "code",
      "metadata": {
        "id": "EE41YjN9nbd9",
        "colab": {
          "base_uri": "https://localhost:8080/"
        },
        "outputId": "fa7844cd-7262-4ca1-bff0-ccef834f39e6"
      },
      "source": [
        "# karena jumlah missing values yang dibawah 60% maka akan drop baris yang missing\n",
        "df_item_details = df_item_details.dropna(axis=0, how=\"any\")\n",
        "pd.isnull(df_item_details).sum()"
      ],
      "execution_count": 29,
      "outputs": [
        {
          "output_type": "execute_result",
          "data": {
            "text/plain": [
              "index                0\n",
              "item_ID              0\n",
              "product_ID           0\n",
              "variation_0_color    0\n",
              "variation_1_color    0\n",
              "dtype: int64"
            ]
          },
          "metadata": {},
          "execution_count": 29
        }
      ]
    },
    {
      "cell_type": "code",
      "metadata": {
        "id": "A2dUQFcq-uSn",
        "colab": {
          "base_uri": "https://localhost:8080/"
        },
        "outputId": "b1db911f-2702-486e-9226-f66363b4603c"
      },
      "source": [
        "# mengubah datatype item_ID dan product_ID menjadi string\n",
        "df_item_details['item_ID'] = df_item_details['item_ID'].astype(str)\n",
        "df_item_details['product_ID'] = df_item_details['product_ID'].astype(str)\n",
        "df_item_details.info()"
      ],
      "execution_count": 30,
      "outputs": [
        {
          "output_type": "stream",
          "name": "stdout",
          "text": [
            "<class 'pandas.core.frame.DataFrame'>\n",
            "Int64Index: 9385 entries, 0 to 13987\n",
            "Data columns (total 5 columns):\n",
            " #   Column             Non-Null Count  Dtype \n",
            "---  ------             --------------  ----- \n",
            " 0   index              9385 non-null   int64 \n",
            " 1   item_ID            9385 non-null   object\n",
            " 2   product_ID         9385 non-null   object\n",
            " 3   variation_0_color  9385 non-null   object\n",
            " 4   variation_1_color  9385 non-null   object\n",
            "dtypes: int64(1), object(4)\n",
            "memory usage: 439.9+ KB\n"
          ]
        }
      ]
    },
    {
      "cell_type": "code",
      "metadata": {
        "id": "dYj3CQAAsUHK",
        "colab": {
          "base_uri": "https://localhost:8080/",
          "height": 49
        },
        "outputId": "5d6b21cc-30d5-4dc2-97dd-b0bf9caa702c"
      },
      "source": [
        "# pengecekan apakah terdapat duplicated values\n",
        "df_item_details[df_item_details[\"item_ID\"].duplicated(keep=False)]"
      ],
      "execution_count": 31,
      "outputs": [
        {
          "output_type": "execute_result",
          "data": {
            "text/html": [
              "<div>\n",
              "<style scoped>\n",
              "    .dataframe tbody tr th:only-of-type {\n",
              "        vertical-align: middle;\n",
              "    }\n",
              "\n",
              "    .dataframe tbody tr th {\n",
              "        vertical-align: top;\n",
              "    }\n",
              "\n",
              "    .dataframe thead th {\n",
              "        text-align: right;\n",
              "    }\n",
              "</style>\n",
              "<table border=\"1\" class=\"dataframe\">\n",
              "  <thead>\n",
              "    <tr style=\"text-align: right;\">\n",
              "      <th></th>\n",
              "      <th>index</th>\n",
              "      <th>item_ID</th>\n",
              "      <th>product_ID</th>\n",
              "      <th>variation_0_color</th>\n",
              "      <th>variation_1_color</th>\n",
              "    </tr>\n",
              "  </thead>\n",
              "  <tbody>\n",
              "  </tbody>\n",
              "</table>\n",
              "</div>"
            ],
            "text/plain": [
              "Empty DataFrame\n",
              "Columns: [index, item_ID, product_ID, variation_0_color, variation_1_color]\n",
              "Index: []"
            ]
          },
          "metadata": {},
          "execution_count": 31
        }
      ]
    },
    {
      "cell_type": "code",
      "metadata": {
        "id": "PH_47jURpv6r",
        "colab": {
          "base_uri": "https://localhost:8080/"
        },
        "outputId": "c673d0ee-e31c-450d-8ef1-f1136f865973"
      },
      "source": [
        "# tabel events, terdapat missing value\n",
        "df_events.info()"
      ],
      "execution_count": 32,
      "outputs": [
        {
          "output_type": "stream",
          "name": "stdout",
          "text": [
            "<class 'pandas.core.frame.DataFrame'>\n",
            "RangeIndex: 14161 entries, 0 to 14160\n",
            "Data columns (total 15 columns):\n",
            " #   Column          Non-Null Count  Dtype  \n",
            "---  ------          --------------  -----  \n",
            " 0   index           14161 non-null  int64  \n",
            " 1   ID              14161 non-null  int64  \n",
            " 2   sku             14161 non-null  object \n",
            " 3   image_url       14161 non-null  object \n",
            " 4   url_area        14161 non-null  object \n",
            " 5   product_ID      14161 non-null  int64  \n",
            " 6   brand_ID        14161 non-null  int64  \n",
            " 7   category_ID     14161 non-null  int64  \n",
            " 8   subcategory_ID  14161 non-null  int64  \n",
            " 9   item_ID         14161 non-null  int64  \n",
            " 10  current_price   14151 non-null  object \n",
            " 11  perc.discount   14156 non-null  float64\n",
            " 12  likes_count     14161 non-null  int64  \n",
            " 13  is_new          14161 non-null  int64  \n",
            " 14  codCountry      13018 non-null  object \n",
            "dtypes: float64(1), int64(9), object(5)\n",
            "memory usage: 1.6+ MB\n"
          ]
        }
      ]
    },
    {
      "cell_type": "code",
      "metadata": {
        "id": "XqVCDrPUq9f8",
        "colab": {
          "base_uri": "https://localhost:8080/"
        },
        "outputId": "52cafa83-a62b-4193-a67a-77f1404a4d6d"
      },
      "source": [
        "# terdapat 10 missing values pada kolom current_price, 5 values pada kolom perc.discount dan 1143 values pada kolom codCountry\n",
        "hilang_events = pd.isnull(df_events).sum()\n",
        "rasio_events = hilang_events.div(len(df_events))\n",
        "print(hilang_events, rasio_events)"
      ],
      "execution_count": 33,
      "outputs": [
        {
          "output_type": "stream",
          "name": "stdout",
          "text": [
            "index                0\n",
            "ID                   0\n",
            "sku                  0\n",
            "image_url            0\n",
            "url_area             0\n",
            "product_ID           0\n",
            "brand_ID             0\n",
            "category_ID          0\n",
            "subcategory_ID       0\n",
            "item_ID              0\n",
            "current_price       10\n",
            "perc.discount        5\n",
            "likes_count          0\n",
            "is_new               0\n",
            "codCountry        1143\n",
            "dtype: int64 index             0.000000\n",
            "ID                0.000000\n",
            "sku               0.000000\n",
            "image_url         0.000000\n",
            "url_area          0.000000\n",
            "product_ID        0.000000\n",
            "brand_ID          0.000000\n",
            "category_ID       0.000000\n",
            "subcategory_ID    0.000000\n",
            "item_ID           0.000000\n",
            "current_price     0.000706\n",
            "perc.discount     0.000353\n",
            "likes_count       0.000000\n",
            "is_new            0.000000\n",
            "codCountry        0.080715\n",
            "dtype: float64\n"
          ]
        }
      ]
    },
    {
      "cell_type": "code",
      "metadata": {
        "id": "tHt082j0LNCY",
        "colab": {
          "base_uri": "https://localhost:8080/"
        },
        "outputId": "879d78dd-1415-480f-a557-f56b60a031fe"
      },
      "source": [
        "# Menghapus missing value dengan drop baris yang missing\n",
        "df_events = df_events.dropna(axis=0, how=\"any\")\n",
        "pd.isnull(df_events).sum()"
      ],
      "execution_count": 34,
      "outputs": [
        {
          "output_type": "execute_result",
          "data": {
            "text/plain": [
              "index             0\n",
              "ID                0\n",
              "sku               0\n",
              "image_url         0\n",
              "url_area          0\n",
              "product_ID        0\n",
              "brand_ID          0\n",
              "category_ID       0\n",
              "subcategory_ID    0\n",
              "item_ID           0\n",
              "current_price     0\n",
              "perc.discount     0\n",
              "likes_count       0\n",
              "is_new            0\n",
              "codCountry        0\n",
              "dtype: int64"
            ]
          },
          "metadata": {},
          "execution_count": 34
        }
      ]
    },
    {
      "cell_type": "code",
      "metadata": {
        "id": "H3zcWaSb_e98",
        "colab": {
          "base_uri": "https://localhost:8080/"
        },
        "outputId": "afe3c46a-15b1-400a-a15d-aca93aa6f768"
      },
      "source": [
        "# mengubah datatype ID, product_ID, brand_ID, category_ID, subcategory_ID, item_ID, dan is_new menjadi string\n",
        "df_events['ID'] = df_events['ID'].astype(str)\n",
        "df_events['product_ID'] = df_events['product_ID'].astype(str)\n",
        "df_events['brand_ID'] = df_events['brand_ID'].astype(str)\n",
        "df_events['category_ID'] = df_events['category_ID'].astype(str)\n",
        "df_events['subcategory_ID'] = df_events['subcategory_ID'].astype(str)\n",
        "df_events['item_ID'] = df_events['item_ID'].astype(str)\n",
        "df_events['is_new'] = df_events['is_new'].astype(str)\n",
        "df_events.info()"
      ],
      "execution_count": 35,
      "outputs": [
        {
          "output_type": "stream",
          "name": "stdout",
          "text": [
            "<class 'pandas.core.frame.DataFrame'>\n",
            "Int64Index: 13004 entries, 0 to 14160\n",
            "Data columns (total 15 columns):\n",
            " #   Column          Non-Null Count  Dtype  \n",
            "---  ------          --------------  -----  \n",
            " 0   index           13004 non-null  int64  \n",
            " 1   ID              13004 non-null  object \n",
            " 2   sku             13004 non-null  object \n",
            " 3   image_url       13004 non-null  object \n",
            " 4   url_area        13004 non-null  object \n",
            " 5   product_ID      13004 non-null  object \n",
            " 6   brand_ID        13004 non-null  object \n",
            " 7   category_ID     13004 non-null  object \n",
            " 8   subcategory_ID  13004 non-null  object \n",
            " 9   item_ID         13004 non-null  object \n",
            " 10  current_price   13004 non-null  object \n",
            " 11  perc.discount   13004 non-null  float64\n",
            " 12  likes_count     13004 non-null  int64  \n",
            " 13  is_new          13004 non-null  object \n",
            " 14  codCountry      13004 non-null  object \n",
            "dtypes: float64(1), int64(2), object(12)\n",
            "memory usage: 1.6+ MB\n"
          ]
        }
      ]
    },
    {
      "cell_type": "code",
      "metadata": {
        "id": "zjLs25zopUh1",
        "colab": {
          "base_uri": "https://localhost:8080/",
          "height": 605
        },
        "outputId": "0976f122-259f-45c8-8ee3-1bf7985bfa3b"
      },
      "source": [
        "# pengecekan apakah terdapat duplicated values, ternyata ada 124 rows yang duplicate\n",
        "df_events[df_events[\"ID\"].duplicated(keep=False)]"
      ],
      "execution_count": 36,
      "outputs": [
        {
          "output_type": "execute_result",
          "data": {
            "text/html": [
              "<div>\n",
              "<style scoped>\n",
              "    .dataframe tbody tr th:only-of-type {\n",
              "        vertical-align: middle;\n",
              "    }\n",
              "\n",
              "    .dataframe tbody tr th {\n",
              "        vertical-align: top;\n",
              "    }\n",
              "\n",
              "    .dataframe thead th {\n",
              "        text-align: right;\n",
              "    }\n",
              "</style>\n",
              "<table border=\"1\" class=\"dataframe\">\n",
              "  <thead>\n",
              "    <tr style=\"text-align: right;\">\n",
              "      <th></th>\n",
              "      <th>index</th>\n",
              "      <th>ID</th>\n",
              "      <th>sku</th>\n",
              "      <th>image_url</th>\n",
              "      <th>url_area</th>\n",
              "      <th>product_ID</th>\n",
              "      <th>brand_ID</th>\n",
              "      <th>category_ID</th>\n",
              "      <th>subcategory_ID</th>\n",
              "      <th>item_ID</th>\n",
              "      <th>current_price</th>\n",
              "      <th>perc.discount</th>\n",
              "      <th>likes_count</th>\n",
              "      <th>is_new</th>\n",
              "      <th>codCountry</th>\n",
              "    </tr>\n",
              "  </thead>\n",
              "  <tbody>\n",
              "    <tr>\n",
              "      <th>11</th>\n",
              "      <td>11</td>\n",
              "      <td>78267</td>\n",
              "      <td>SKU039926</td>\n",
              "      <td>https://imgaz1.chiccdn.com/thumb/view/oaupload...</td>\n",
              "      <td>https://fr.newchic.com/kingso-wall-lamps-5395/...</td>\n",
              "      <td>2326</td>\n",
              "      <td>119</td>\n",
              "      <td>4</td>\n",
              "      <td>225</td>\n",
              "      <td>2358</td>\n",
              "      <td>3.59 USD</td>\n",
              "      <td>47.0</td>\n",
              "      <td>2</td>\n",
              "      <td>0</td>\n",
              "      <td>ID,MY,PH,SG,TH,VN</td>\n",
              "    </tr>\n",
              "    <tr>\n",
              "      <th>12</th>\n",
              "      <td>12</td>\n",
              "      <td>78267</td>\n",
              "      <td>SKU039926</td>\n",
              "      <td>https://imgaz1.chiccdn.com/thumb/view/oaupload...</td>\n",
              "      <td>https://fr.newchic.com/kingso-wall-lamps-5395/...</td>\n",
              "      <td>2326</td>\n",
              "      <td>119</td>\n",
              "      <td>4</td>\n",
              "      <td>225</td>\n",
              "      <td>2358</td>\n",
              "      <td>3.59 USD</td>\n",
              "      <td>47.0</td>\n",
              "      <td>2</td>\n",
              "      <td>0</td>\n",
              "      <td>ID,MY,PH,SG,TH,VN</td>\n",
              "    </tr>\n",
              "    <tr>\n",
              "      <th>275</th>\n",
              "      <td>275</td>\n",
              "      <td>1054376</td>\n",
              "      <td>SKU396836</td>\n",
              "      <td>https://imgaz1.chiccdn.com/thumb/view/oaupload...</td>\n",
              "      <td>https://fr.newchic.com/topacc-handmade-toys-50...</td>\n",
              "      <td>2223</td>\n",
              "      <td>160</td>\n",
              "      <td>4</td>\n",
              "      <td>213</td>\n",
              "      <td>2255</td>\n",
              "      <td>25.75 USD</td>\n",
              "      <td>44.0</td>\n",
              "      <td>77</td>\n",
              "      <td>0</td>\n",
              "      <td>ID,MY,PH,SG,TH,VN</td>\n",
              "    </tr>\n",
              "    <tr>\n",
              "      <th>276</th>\n",
              "      <td>276</td>\n",
              "      <td>1054376</td>\n",
              "      <td>SKU396836</td>\n",
              "      <td>https://imgaz1.chiccdn.com/thumb/view/oaupload...</td>\n",
              "      <td>https://fr.newchic.com/topacc-handmade-toys-50...</td>\n",
              "      <td>2223</td>\n",
              "      <td>160</td>\n",
              "      <td>4</td>\n",
              "      <td>213</td>\n",
              "      <td>2255</td>\n",
              "      <td>25.75 USD</td>\n",
              "      <td>44.0</td>\n",
              "      <td>77</td>\n",
              "      <td>0</td>\n",
              "      <td>ID,MY,PH,SG,TH,VN</td>\n",
              "    </tr>\n",
              "    <tr>\n",
              "      <th>655</th>\n",
              "      <td>655</td>\n",
              "      <td>1113128</td>\n",
              "      <td>SKU544412</td>\n",
              "      <td>https://imgaz1.chiccdn.com/thumb/view/oaupload...</td>\n",
              "      <td>https://fr.newchic.com/socofy-flats-3615/p-111...</td>\n",
              "      <td>7590</td>\n",
              "      <td>20</td>\n",
              "      <td>8</td>\n",
              "      <td>142</td>\n",
              "      <td>7780</td>\n",
              "      <td>34.99 USD</td>\n",
              "      <td>49.0</td>\n",
              "      <td>12227</td>\n",
              "      <td>0</td>\n",
              "      <td>ID,MY,PH,SG,TH,VN</td>\n",
              "    </tr>\n",
              "    <tr>\n",
              "      <th>...</th>\n",
              "      <td>...</td>\n",
              "      <td>...</td>\n",
              "      <td>...</td>\n",
              "      <td>...</td>\n",
              "      <td>...</td>\n",
              "      <td>...</td>\n",
              "      <td>...</td>\n",
              "      <td>...</td>\n",
              "      <td>...</td>\n",
              "      <td>...</td>\n",
              "      <td>...</td>\n",
              "      <td>...</td>\n",
              "      <td>...</td>\n",
              "      <td>...</td>\n",
              "      <td>...</td>\n",
              "    </tr>\n",
              "    <tr>\n",
              "      <th>13141</th>\n",
              "      <td>13141</td>\n",
              "      <td>1692610</td>\n",
              "      <td>SKUE46513</td>\n",
              "      <td>https://imgaz1.chiccdn.com/thumb/view/oaupload...</td>\n",
              "      <td>https://fr.newchic.com/xiaomi-smart-watches-49...</td>\n",
              "      <td>5136</td>\n",
              "      <td>12</td>\n",
              "      <td>5</td>\n",
              "      <td>251</td>\n",
              "      <td>5177</td>\n",
              "      <td>42.99 USD</td>\n",
              "      <td>57.0</td>\n",
              "      <td>27</td>\n",
              "      <td>0</td>\n",
              "      <td>ID,MY,PH,SG,TH,VN</td>\n",
              "    </tr>\n",
              "    <tr>\n",
              "      <th>13165</th>\n",
              "      <td>13165</td>\n",
              "      <td>1693840</td>\n",
              "      <td>SKUE46510</td>\n",
              "      <td>https://imgaz1.chiccdn.com/thumb/view/oaupload...</td>\n",
              "      <td>https://fr.newchic.com/xiaomi-smart-watches-49...</td>\n",
              "      <td>5140</td>\n",
              "      <td>12</td>\n",
              "      <td>5</td>\n",
              "      <td>251</td>\n",
              "      <td>5181</td>\n",
              "      <td>49.99 USD</td>\n",
              "      <td>52.0</td>\n",
              "      <td>19</td>\n",
              "      <td>0</td>\n",
              "      <td>ID,MY,PH,SG,TH,VN</td>\n",
              "    </tr>\n",
              "    <tr>\n",
              "      <th>13166</th>\n",
              "      <td>13166</td>\n",
              "      <td>1693840</td>\n",
              "      <td>SKUE46510</td>\n",
              "      <td>https://imgaz1.chiccdn.com/thumb/view/oaupload...</td>\n",
              "      <td>https://fr.newchic.com/xiaomi-smart-watches-49...</td>\n",
              "      <td>5140</td>\n",
              "      <td>12</td>\n",
              "      <td>5</td>\n",
              "      <td>251</td>\n",
              "      <td>5181</td>\n",
              "      <td>49.99 USD</td>\n",
              "      <td>52.0</td>\n",
              "      <td>19</td>\n",
              "      <td>0</td>\n",
              "      <td>ID,MY,PH,SG,TH,VN</td>\n",
              "    </tr>\n",
              "    <tr>\n",
              "      <th>13313</th>\n",
              "      <td>13313</td>\n",
              "      <td>1703260</td>\n",
              "      <td>SKUF48706</td>\n",
              "      <td>https://imgaz1.chiccdn.com/thumb/view/oaupload...</td>\n",
              "      <td>https://fr.newchic.com/lostisy-womens-sandals-...</td>\n",
              "      <td>7584</td>\n",
              "      <td>378</td>\n",
              "      <td>8</td>\n",
              "      <td>353</td>\n",
              "      <td>7772</td>\n",
              "      <td>23.6 USD</td>\n",
              "      <td>51.0</td>\n",
              "      <td>144</td>\n",
              "      <td>0</td>\n",
              "      <td>ID,MY,PH,SG,TH,VN</td>\n",
              "    </tr>\n",
              "    <tr>\n",
              "      <th>13314</th>\n",
              "      <td>13314</td>\n",
              "      <td>1703260</td>\n",
              "      <td>SKUF48706</td>\n",
              "      <td>https://imgaz1.chiccdn.com/thumb/view/oaupload...</td>\n",
              "      <td>https://fr.newchic.com/lostisy-womens-sandals-...</td>\n",
              "      <td>7584</td>\n",
              "      <td>378</td>\n",
              "      <td>8</td>\n",
              "      <td>353</td>\n",
              "      <td>7772</td>\n",
              "      <td>23.6 USD</td>\n",
              "      <td>51.0</td>\n",
              "      <td>144</td>\n",
              "      <td>0</td>\n",
              "      <td>ID,MY,PH,SG,TH,VN</td>\n",
              "    </tr>\n",
              "  </tbody>\n",
              "</table>\n",
              "<p>120 rows × 15 columns</p>\n",
              "</div>"
            ],
            "text/plain": [
              "       index       ID        sku  ... likes_count is_new         codCountry\n",
              "11        11    78267  SKU039926  ...           2      0  ID,MY,PH,SG,TH,VN\n",
              "12        12    78267  SKU039926  ...           2      0  ID,MY,PH,SG,TH,VN\n",
              "275      275  1054376  SKU396836  ...          77      0  ID,MY,PH,SG,TH,VN\n",
              "276      276  1054376  SKU396836  ...          77      0  ID,MY,PH,SG,TH,VN\n",
              "655      655  1113128  SKU544412  ...       12227      0  ID,MY,PH,SG,TH,VN\n",
              "...      ...      ...        ...  ...         ...    ...                ...\n",
              "13141  13141  1692610  SKUE46513  ...          27      0  ID,MY,PH,SG,TH,VN\n",
              "13165  13165  1693840  SKUE46510  ...          19      0  ID,MY,PH,SG,TH,VN\n",
              "13166  13166  1693840  SKUE46510  ...          19      0  ID,MY,PH,SG,TH,VN\n",
              "13313  13313  1703260  SKUF48706  ...         144      0  ID,MY,PH,SG,TH,VN\n",
              "13314  13314  1703260  SKUF48706  ...         144      0  ID,MY,PH,SG,TH,VN\n",
              "\n",
              "[120 rows x 15 columns]"
            ]
          },
          "metadata": {},
          "execution_count": 36
        }
      ]
    },
    {
      "cell_type": "code",
      "metadata": {
        "id": "kqBZj-w-s1AC",
        "colab": {
          "base_uri": "https://localhost:8080/",
          "height": 49
        },
        "outputId": "c77f9c6e-8107-420a-a721-98828129a33a"
      },
      "source": [
        "# menghilangkan duplicate value pada tabel\n",
        "df_events = df_events.drop_duplicates(subset=['ID']).reset_index(drop=True)\n",
        "df_events[df_events[\"ID\"].duplicated(keep=False)]"
      ],
      "execution_count": 37,
      "outputs": [
        {
          "output_type": "execute_result",
          "data": {
            "text/html": [
              "<div>\n",
              "<style scoped>\n",
              "    .dataframe tbody tr th:only-of-type {\n",
              "        vertical-align: middle;\n",
              "    }\n",
              "\n",
              "    .dataframe tbody tr th {\n",
              "        vertical-align: top;\n",
              "    }\n",
              "\n",
              "    .dataframe thead th {\n",
              "        text-align: right;\n",
              "    }\n",
              "</style>\n",
              "<table border=\"1\" class=\"dataframe\">\n",
              "  <thead>\n",
              "    <tr style=\"text-align: right;\">\n",
              "      <th></th>\n",
              "      <th>index</th>\n",
              "      <th>ID</th>\n",
              "      <th>sku</th>\n",
              "      <th>image_url</th>\n",
              "      <th>url_area</th>\n",
              "      <th>product_ID</th>\n",
              "      <th>brand_ID</th>\n",
              "      <th>category_ID</th>\n",
              "      <th>subcategory_ID</th>\n",
              "      <th>item_ID</th>\n",
              "      <th>current_price</th>\n",
              "      <th>perc.discount</th>\n",
              "      <th>likes_count</th>\n",
              "      <th>is_new</th>\n",
              "      <th>codCountry</th>\n",
              "    </tr>\n",
              "  </thead>\n",
              "  <tbody>\n",
              "  </tbody>\n",
              "</table>\n",
              "</div>"
            ],
            "text/plain": [
              "Empty DataFrame\n",
              "Columns: [index, ID, sku, image_url, url_area, product_ID, brand_ID, category_ID, subcategory_ID, item_ID, current_price, perc.discount, likes_count, is_new, codCountry]\n",
              "Index: []"
            ]
          },
          "metadata": {},
          "execution_count": 37
        }
      ]
    },
    {
      "cell_type": "markdown",
      "metadata": {
        "id": "Qd-gl49ZhdCu"
      },
      "source": [
        "# **Data Wrangling**"
      ]
    },
    {
      "cell_type": "code",
      "metadata": {
        "id": "Nc4H9JvcI0Ni",
        "colab": {
          "base_uri": "https://localhost:8080/",
          "height": 203
        },
        "outputId": "0aca74d1-a599-439b-d539-46dd9ef8ff6e"
      },
      "source": [
        "# menggabungkan tabel products dengan tabel item dengan product_ID sebagai key\n",
        "df_product_item = df_products.merge(df_item_details, how='left', on='product_ID')\n",
        "df_product_item.head()"
      ],
      "execution_count": 38,
      "outputs": [
        {
          "output_type": "execute_result",
          "data": {
            "text/html": [
              "<div>\n",
              "<style scoped>\n",
              "    .dataframe tbody tr th:only-of-type {\n",
              "        vertical-align: middle;\n",
              "    }\n",
              "\n",
              "    .dataframe tbody tr th {\n",
              "        vertical-align: top;\n",
              "    }\n",
              "\n",
              "    .dataframe thead th {\n",
              "        text-align: right;\n",
              "    }\n",
              "</style>\n",
              "<table border=\"1\" class=\"dataframe\">\n",
              "  <thead>\n",
              "    <tr style=\"text-align: right;\">\n",
              "      <th></th>\n",
              "      <th>index_x</th>\n",
              "      <th>product_ID</th>\n",
              "      <th>product_name</th>\n",
              "      <th>index_y</th>\n",
              "      <th>item_ID</th>\n",
              "      <th>variation_0_color</th>\n",
              "      <th>variation_1_color</th>\n",
              "    </tr>\n",
              "  </thead>\n",
              "  <tbody>\n",
              "    <tr>\n",
              "      <th>0</th>\n",
              "      <td>0</td>\n",
              "      <td>1</td>\n",
              "      <td>Chapeau à Visière Anti-UV pour Protection Solaire</td>\n",
              "      <td>0.0</td>\n",
              "      <td>1</td>\n",
              "      <td>Bleu ciel</td>\n",
              "      <td>Gris</td>\n",
              "    </tr>\n",
              "    <tr>\n",
              "      <th>1</th>\n",
              "      <td>1</td>\n",
              "      <td>2</td>\n",
              "      <td>Écharpe longue 180cm à pois en broderie pour f...</td>\n",
              "      <td>1.0</td>\n",
              "      <td>2</td>\n",
              "      <td>armée verte</td>\n",
              "      <td>Bleu</td>\n",
              "    </tr>\n",
              "    <tr>\n",
              "      <th>2</th>\n",
              "      <td>2</td>\n",
              "      <td>3</td>\n",
              "      <td>Casquette de baseball de sport en plein air de...</td>\n",
              "      <td>2.0</td>\n",
              "      <td>3</td>\n",
              "      <td>#1</td>\n",
              "      <td>#2</td>\n",
              "    </tr>\n",
              "    <tr>\n",
              "      <th>3</th>\n",
              "      <td>3</td>\n",
              "      <td>4</td>\n",
              "      <td>Casquettes de Baseball Respirantes Unisexe Par...</td>\n",
              "      <td>3.0</td>\n",
              "      <td>4</td>\n",
              "      <td>rouge</td>\n",
              "      <td>Bleu</td>\n",
              "    </tr>\n",
              "    <tr>\n",
              "      <th>4</th>\n",
              "      <td>4</td>\n",
              "      <td>5</td>\n",
              "      <td>LYZA Femmes Châle Surdimensionné Réversible Po...</td>\n",
              "      <td>4.0</td>\n",
              "      <td>5</td>\n",
              "      <td>Rose</td>\n",
              "      <td>Bleu</td>\n",
              "    </tr>\n",
              "  </tbody>\n",
              "</table>\n",
              "</div>"
            ],
            "text/plain": [
              "   index_x product_ID  ... variation_0_color  variation_1_color\n",
              "0        0          1  ...         Bleu ciel               Gris\n",
              "1        1          2  ...       armée verte               Bleu\n",
              "2        2          3  ...                #1                 #2\n",
              "3        3          4  ...             rouge               Bleu\n",
              "4        4          5  ...              Rose               Bleu\n",
              "\n",
              "[5 rows x 7 columns]"
            ]
          },
          "metadata": {},
          "execution_count": 38
        }
      ]
    },
    {
      "cell_type": "code",
      "metadata": {
        "id": "G2XAap4fJrc9",
        "colab": {
          "base_uri": "https://localhost:8080/",
          "height": 203
        },
        "outputId": "0bf9972d-8d13-480c-8c36-6de54738f14c"
      },
      "source": [
        "# menghapus kolom yang dirasa tidak penting\n",
        "df_product_item.drop(['index_x', 'index_y'], axis=1, inplace=True)\n",
        "df_product_item.head()"
      ],
      "execution_count": 39,
      "outputs": [
        {
          "output_type": "execute_result",
          "data": {
            "text/html": [
              "<div>\n",
              "<style scoped>\n",
              "    .dataframe tbody tr th:only-of-type {\n",
              "        vertical-align: middle;\n",
              "    }\n",
              "\n",
              "    .dataframe tbody tr th {\n",
              "        vertical-align: top;\n",
              "    }\n",
              "\n",
              "    .dataframe thead th {\n",
              "        text-align: right;\n",
              "    }\n",
              "</style>\n",
              "<table border=\"1\" class=\"dataframe\">\n",
              "  <thead>\n",
              "    <tr style=\"text-align: right;\">\n",
              "      <th></th>\n",
              "      <th>product_ID</th>\n",
              "      <th>product_name</th>\n",
              "      <th>item_ID</th>\n",
              "      <th>variation_0_color</th>\n",
              "      <th>variation_1_color</th>\n",
              "    </tr>\n",
              "  </thead>\n",
              "  <tbody>\n",
              "    <tr>\n",
              "      <th>0</th>\n",
              "      <td>1</td>\n",
              "      <td>Chapeau à Visière Anti-UV pour Protection Solaire</td>\n",
              "      <td>1</td>\n",
              "      <td>Bleu ciel</td>\n",
              "      <td>Gris</td>\n",
              "    </tr>\n",
              "    <tr>\n",
              "      <th>1</th>\n",
              "      <td>2</td>\n",
              "      <td>Écharpe longue 180cm à pois en broderie pour f...</td>\n",
              "      <td>2</td>\n",
              "      <td>armée verte</td>\n",
              "      <td>Bleu</td>\n",
              "    </tr>\n",
              "    <tr>\n",
              "      <th>2</th>\n",
              "      <td>3</td>\n",
              "      <td>Casquette de baseball de sport en plein air de...</td>\n",
              "      <td>3</td>\n",
              "      <td>#1</td>\n",
              "      <td>#2</td>\n",
              "    </tr>\n",
              "    <tr>\n",
              "      <th>3</th>\n",
              "      <td>4</td>\n",
              "      <td>Casquettes de Baseball Respirantes Unisexe Par...</td>\n",
              "      <td>4</td>\n",
              "      <td>rouge</td>\n",
              "      <td>Bleu</td>\n",
              "    </tr>\n",
              "    <tr>\n",
              "      <th>4</th>\n",
              "      <td>5</td>\n",
              "      <td>LYZA Femmes Châle Surdimensionné Réversible Po...</td>\n",
              "      <td>5</td>\n",
              "      <td>Rose</td>\n",
              "      <td>Bleu</td>\n",
              "    </tr>\n",
              "  </tbody>\n",
              "</table>\n",
              "</div>"
            ],
            "text/plain": [
              "  product_ID  ... variation_1_color\n",
              "0          1  ...              Gris\n",
              "1          2  ...              Bleu\n",
              "2          3  ...                #2\n",
              "3          4  ...              Bleu\n",
              "4          5  ...              Bleu\n",
              "\n",
              "[5 rows x 5 columns]"
            ]
          },
          "metadata": {},
          "execution_count": 39
        }
      ]
    },
    {
      "cell_type": "code",
      "metadata": {
        "id": "UGfXjXSpU-vY",
        "colab": {
          "base_uri": "https://localhost:8080/"
        },
        "outputId": "17f6801e-5cd0-4d44-cec0-a65348973969"
      },
      "source": [
        "df_product_item.info()"
      ],
      "execution_count": 40,
      "outputs": [
        {
          "output_type": "stream",
          "name": "stdout",
          "text": [
            "<class 'pandas.core.frame.DataFrame'>\n",
            "Int64Index: 13765 entries, 0 to 13764\n",
            "Data columns (total 5 columns):\n",
            " #   Column             Non-Null Count  Dtype \n",
            "---  ------             --------------  ----- \n",
            " 0   product_ID         13765 non-null  object\n",
            " 1   product_name       13765 non-null  object\n",
            " 2   item_ID            9385 non-null   object\n",
            " 3   variation_0_color  9385 non-null   object\n",
            " 4   variation_1_color  9385 non-null   object\n",
            "dtypes: object(5)\n",
            "memory usage: 645.2+ KB\n"
          ]
        }
      ]
    },
    {
      "cell_type": "code",
      "metadata": {
        "id": "0hlTxDzBhUCw",
        "colab": {
          "base_uri": "https://localhost:8080/",
          "height": 526
        },
        "outputId": "309b2ddd-4392-4493-81b2-79670a229dda"
      },
      "source": [
        "# menggabungkan tabel products_item dengan tabel events dengan product_ID sebagai key\n",
        "df_product_new = df_events.merge(df_product_item, how='left', on='product_ID')\n",
        "df_product_new.head()"
      ],
      "execution_count": 41,
      "outputs": [
        {
          "output_type": "execute_result",
          "data": {
            "text/html": [
              "<div>\n",
              "<style scoped>\n",
              "    .dataframe tbody tr th:only-of-type {\n",
              "        vertical-align: middle;\n",
              "    }\n",
              "\n",
              "    .dataframe tbody tr th {\n",
              "        vertical-align: top;\n",
              "    }\n",
              "\n",
              "    .dataframe thead th {\n",
              "        text-align: right;\n",
              "    }\n",
              "</style>\n",
              "<table border=\"1\" class=\"dataframe\">\n",
              "  <thead>\n",
              "    <tr style=\"text-align: right;\">\n",
              "      <th></th>\n",
              "      <th>index</th>\n",
              "      <th>ID</th>\n",
              "      <th>sku</th>\n",
              "      <th>image_url</th>\n",
              "      <th>url_area</th>\n",
              "      <th>product_ID</th>\n",
              "      <th>brand_ID</th>\n",
              "      <th>category_ID</th>\n",
              "      <th>subcategory_ID</th>\n",
              "      <th>item_ID_x</th>\n",
              "      <th>current_price</th>\n",
              "      <th>perc.discount</th>\n",
              "      <th>likes_count</th>\n",
              "      <th>is_new</th>\n",
              "      <th>codCountry</th>\n",
              "      <th>product_name</th>\n",
              "      <th>item_ID_y</th>\n",
              "      <th>variation_0_color</th>\n",
              "      <th>variation_1_color</th>\n",
              "    </tr>\n",
              "  </thead>\n",
              "  <tbody>\n",
              "    <tr>\n",
              "      <th>0</th>\n",
              "      <td>0</td>\n",
              "      <td>27788</td>\n",
              "      <td>SKU585926</td>\n",
              "      <td>https://imgaz1.chiccdn.com/thumb/view/oaupload...</td>\n",
              "      <td>https://fr.newchic.com/loskii-wall-art-4619/p-...</td>\n",
              "      <td>4636</td>\n",
              "      <td>120</td>\n",
              "      <td>4</td>\n",
              "      <td>21</td>\n",
              "      <td>4677</td>\n",
              "      <td>21.48 USD</td>\n",
              "      <td>42.0</td>\n",
              "      <td>285</td>\n",
              "      <td>0</td>\n",
              "      <td>ID,MY,PH,SG,TH,VN</td>\n",
              "      <td>Mesure verticale horizontale de laser de nivea...</td>\n",
              "      <td>NaN</td>\n",
              "      <td>NaN</td>\n",
              "      <td>NaN</td>\n",
              "    </tr>\n",
              "    <tr>\n",
              "      <th>1</th>\n",
              "      <td>1</td>\n",
              "      <td>42560</td>\n",
              "      <td>SKU028546</td>\n",
              "      <td>https://imgaz1.chiccdn.com/thumb/view/oaupload...</td>\n",
              "      <td>https://fr.newchic.com/plus-size-blouses-and-s...</td>\n",
              "      <td>9862</td>\n",
              "      <td>396</td>\n",
              "      <td>9</td>\n",
              "      <td>98</td>\n",
              "      <td>10372</td>\n",
              "      <td>22.99 USD</td>\n",
              "      <td>65.0</td>\n",
              "      <td>147</td>\n",
              "      <td>0</td>\n",
              "      <td>ID,MY,PH,SG,TH,VN</td>\n",
              "      <td>Chemises élégantes de dentelle de patchwork</td>\n",
              "      <td>10372</td>\n",
              "      <td>Noir</td>\n",
              "      <td>blanc</td>\n",
              "    </tr>\n",
              "    <tr>\n",
              "      <th>2</th>\n",
              "      <td>2</td>\n",
              "      <td>45211</td>\n",
              "      <td>SKU031964</td>\n",
              "      <td>https://imgaz1.chiccdn.com/thumb/view/oaupload...</td>\n",
              "      <td>https://fr.newchic.com/beon-vehicle-supplies-5...</td>\n",
              "      <td>3620</td>\n",
              "      <td>246</td>\n",
              "      <td>4</td>\n",
              "      <td>232</td>\n",
              "      <td>3658</td>\n",
              "      <td>1.59 USD</td>\n",
              "      <td>58.0</td>\n",
              "      <td>1</td>\n",
              "      <td>0</td>\n",
              "      <td>ID,MY,PH,SG,TH,VN</td>\n",
              "      <td>Filtre à essence liquide universel pour essenc...</td>\n",
              "      <td>NaN</td>\n",
              "      <td>NaN</td>\n",
              "      <td>NaN</td>\n",
              "    </tr>\n",
              "    <tr>\n",
              "      <th>3</th>\n",
              "      <td>3</td>\n",
              "      <td>48169</td>\n",
              "      <td>SKU037769</td>\n",
              "      <td>https://imgaz1.chiccdn.com/thumb/view/oaupload...</td>\n",
              "      <td>https://fr.newchic.com/y-f-m-face-care-tools-5...</td>\n",
              "      <td>1144</td>\n",
              "      <td>73</td>\n",
              "      <td>3</td>\n",
              "      <td>10</td>\n",
              "      <td>1168</td>\n",
              "      <td>19.03 USD</td>\n",
              "      <td>43.0</td>\n",
              "      <td>500</td>\n",
              "      <td>0</td>\n",
              "      <td>ID,MY,PH,SG,TH,VN</td>\n",
              "      <td>Rouleau de peau YFM pour les rides cicatrices ...</td>\n",
              "      <td>NaN</td>\n",
              "      <td>NaN</td>\n",
              "      <td>NaN</td>\n",
              "    </tr>\n",
              "    <tr>\n",
              "      <th>4</th>\n",
              "      <td>4</td>\n",
              "      <td>51841</td>\n",
              "      <td>SKU039460</td>\n",
              "      <td>https://imgaz1.chiccdn.com/thumb/view/oaupload...</td>\n",
              "      <td>https://fr.newchic.com/t-shirts-3666/p-51841.html</td>\n",
              "      <td>9315</td>\n",
              "      <td>396</td>\n",
              "      <td>9</td>\n",
              "      <td>427</td>\n",
              "      <td>9761</td>\n",
              "      <td>21.99 USD</td>\n",
              "      <td>0.0</td>\n",
              "      <td>251</td>\n",
              "      <td>0</td>\n",
              "      <td>ID,MY,PH,SG,TH,VN</td>\n",
              "      <td>Sweat à capuche à manches longues à manches lo...</td>\n",
              "      <td>NaN</td>\n",
              "      <td>NaN</td>\n",
              "      <td>NaN</td>\n",
              "    </tr>\n",
              "  </tbody>\n",
              "</table>\n",
              "</div>"
            ],
            "text/plain": [
              "   index     ID        sku  ... item_ID_y variation_0_color variation_1_color\n",
              "0      0  27788  SKU585926  ...       NaN               NaN               NaN\n",
              "1      1  42560  SKU028546  ...     10372              Noir             blanc\n",
              "2      2  45211  SKU031964  ...       NaN               NaN               NaN\n",
              "3      3  48169  SKU037769  ...       NaN               NaN               NaN\n",
              "4      4  51841  SKU039460  ...       NaN               NaN               NaN\n",
              "\n",
              "[5 rows x 19 columns]"
            ]
          },
          "metadata": {},
          "execution_count": 41
        }
      ]
    },
    {
      "cell_type": "code",
      "metadata": {
        "colab": {
          "base_uri": "https://localhost:8080/",
          "height": 526
        },
        "id": "4TGZ4SEdB_sE",
        "outputId": "318135d2-f872-47bd-af7c-bb1e93d4172e"
      },
      "source": [
        "# menghapus kolom yang dirasa tidak penting\n",
        "df_product_new.drop(['item_ID_x','item_ID_y'], axis=1, inplace=True)\n",
        "df_product_new.head()"
      ],
      "execution_count": 42,
      "outputs": [
        {
          "output_type": "execute_result",
          "data": {
            "text/html": [
              "<div>\n",
              "<style scoped>\n",
              "    .dataframe tbody tr th:only-of-type {\n",
              "        vertical-align: middle;\n",
              "    }\n",
              "\n",
              "    .dataframe tbody tr th {\n",
              "        vertical-align: top;\n",
              "    }\n",
              "\n",
              "    .dataframe thead th {\n",
              "        text-align: right;\n",
              "    }\n",
              "</style>\n",
              "<table border=\"1\" class=\"dataframe\">\n",
              "  <thead>\n",
              "    <tr style=\"text-align: right;\">\n",
              "      <th></th>\n",
              "      <th>index</th>\n",
              "      <th>ID</th>\n",
              "      <th>sku</th>\n",
              "      <th>image_url</th>\n",
              "      <th>url_area</th>\n",
              "      <th>product_ID</th>\n",
              "      <th>brand_ID</th>\n",
              "      <th>category_ID</th>\n",
              "      <th>subcategory_ID</th>\n",
              "      <th>current_price</th>\n",
              "      <th>perc.discount</th>\n",
              "      <th>likes_count</th>\n",
              "      <th>is_new</th>\n",
              "      <th>codCountry</th>\n",
              "      <th>product_name</th>\n",
              "      <th>variation_0_color</th>\n",
              "      <th>variation_1_color</th>\n",
              "    </tr>\n",
              "  </thead>\n",
              "  <tbody>\n",
              "    <tr>\n",
              "      <th>0</th>\n",
              "      <td>0</td>\n",
              "      <td>27788</td>\n",
              "      <td>SKU585926</td>\n",
              "      <td>https://imgaz1.chiccdn.com/thumb/view/oaupload...</td>\n",
              "      <td>https://fr.newchic.com/loskii-wall-art-4619/p-...</td>\n",
              "      <td>4636</td>\n",
              "      <td>120</td>\n",
              "      <td>4</td>\n",
              "      <td>21</td>\n",
              "      <td>21.48 USD</td>\n",
              "      <td>42.0</td>\n",
              "      <td>285</td>\n",
              "      <td>0</td>\n",
              "      <td>ID,MY,PH,SG,TH,VN</td>\n",
              "      <td>Mesure verticale horizontale de laser de nivea...</td>\n",
              "      <td>NaN</td>\n",
              "      <td>NaN</td>\n",
              "    </tr>\n",
              "    <tr>\n",
              "      <th>1</th>\n",
              "      <td>1</td>\n",
              "      <td>42560</td>\n",
              "      <td>SKU028546</td>\n",
              "      <td>https://imgaz1.chiccdn.com/thumb/view/oaupload...</td>\n",
              "      <td>https://fr.newchic.com/plus-size-blouses-and-s...</td>\n",
              "      <td>9862</td>\n",
              "      <td>396</td>\n",
              "      <td>9</td>\n",
              "      <td>98</td>\n",
              "      <td>22.99 USD</td>\n",
              "      <td>65.0</td>\n",
              "      <td>147</td>\n",
              "      <td>0</td>\n",
              "      <td>ID,MY,PH,SG,TH,VN</td>\n",
              "      <td>Chemises élégantes de dentelle de patchwork</td>\n",
              "      <td>Noir</td>\n",
              "      <td>blanc</td>\n",
              "    </tr>\n",
              "    <tr>\n",
              "      <th>2</th>\n",
              "      <td>2</td>\n",
              "      <td>45211</td>\n",
              "      <td>SKU031964</td>\n",
              "      <td>https://imgaz1.chiccdn.com/thumb/view/oaupload...</td>\n",
              "      <td>https://fr.newchic.com/beon-vehicle-supplies-5...</td>\n",
              "      <td>3620</td>\n",
              "      <td>246</td>\n",
              "      <td>4</td>\n",
              "      <td>232</td>\n",
              "      <td>1.59 USD</td>\n",
              "      <td>58.0</td>\n",
              "      <td>1</td>\n",
              "      <td>0</td>\n",
              "      <td>ID,MY,PH,SG,TH,VN</td>\n",
              "      <td>Filtre à essence liquide universel pour essenc...</td>\n",
              "      <td>NaN</td>\n",
              "      <td>NaN</td>\n",
              "    </tr>\n",
              "    <tr>\n",
              "      <th>3</th>\n",
              "      <td>3</td>\n",
              "      <td>48169</td>\n",
              "      <td>SKU037769</td>\n",
              "      <td>https://imgaz1.chiccdn.com/thumb/view/oaupload...</td>\n",
              "      <td>https://fr.newchic.com/y-f-m-face-care-tools-5...</td>\n",
              "      <td>1144</td>\n",
              "      <td>73</td>\n",
              "      <td>3</td>\n",
              "      <td>10</td>\n",
              "      <td>19.03 USD</td>\n",
              "      <td>43.0</td>\n",
              "      <td>500</td>\n",
              "      <td>0</td>\n",
              "      <td>ID,MY,PH,SG,TH,VN</td>\n",
              "      <td>Rouleau de peau YFM pour les rides cicatrices ...</td>\n",
              "      <td>NaN</td>\n",
              "      <td>NaN</td>\n",
              "    </tr>\n",
              "    <tr>\n",
              "      <th>4</th>\n",
              "      <td>4</td>\n",
              "      <td>51841</td>\n",
              "      <td>SKU039460</td>\n",
              "      <td>https://imgaz1.chiccdn.com/thumb/view/oaupload...</td>\n",
              "      <td>https://fr.newchic.com/t-shirts-3666/p-51841.html</td>\n",
              "      <td>9315</td>\n",
              "      <td>396</td>\n",
              "      <td>9</td>\n",
              "      <td>427</td>\n",
              "      <td>21.99 USD</td>\n",
              "      <td>0.0</td>\n",
              "      <td>251</td>\n",
              "      <td>0</td>\n",
              "      <td>ID,MY,PH,SG,TH,VN</td>\n",
              "      <td>Sweat à capuche à manches longues à manches lo...</td>\n",
              "      <td>NaN</td>\n",
              "      <td>NaN</td>\n",
              "    </tr>\n",
              "  </tbody>\n",
              "</table>\n",
              "</div>"
            ],
            "text/plain": [
              "   index     ID  ... variation_0_color variation_1_color\n",
              "0      0  27788  ...               NaN               NaN\n",
              "1      1  42560  ...              Noir             blanc\n",
              "2      2  45211  ...               NaN               NaN\n",
              "3      3  48169  ...               NaN               NaN\n",
              "4      4  51841  ...               NaN               NaN\n",
              "\n",
              "[5 rows x 17 columns]"
            ]
          },
          "metadata": {},
          "execution_count": 42
        }
      ]
    },
    {
      "cell_type": "code",
      "metadata": {
        "colab": {
          "base_uri": "https://localhost:8080/"
        },
        "id": "rWRI5BAeb5By",
        "outputId": "474b9889-ce75-4bef-c248-d9153d815b23"
      },
      "source": [
        "df_product_new.info()"
      ],
      "execution_count": 43,
      "outputs": [
        {
          "output_type": "stream",
          "name": "stdout",
          "text": [
            "<class 'pandas.core.frame.DataFrame'>\n",
            "Int64Index: 14792 entries, 0 to 14791\n",
            "Data columns (total 17 columns):\n",
            " #   Column             Non-Null Count  Dtype  \n",
            "---  ------             --------------  -----  \n",
            " 0   index              14792 non-null  int64  \n",
            " 1   ID                 14792 non-null  object \n",
            " 2   sku                14792 non-null  object \n",
            " 3   image_url          14792 non-null  object \n",
            " 4   url_area           14792 non-null  object \n",
            " 5   product_ID         14792 non-null  object \n",
            " 6   brand_ID           14792 non-null  object \n",
            " 7   category_ID        14792 non-null  object \n",
            " 8   subcategory_ID     14792 non-null  object \n",
            " 9   current_price      14792 non-null  object \n",
            " 10  perc.discount      14792 non-null  float64\n",
            " 11  likes_count        14792 non-null  int64  \n",
            " 12  is_new             14792 non-null  object \n",
            " 13  codCountry         14792 non-null  object \n",
            " 14  product_name       14792 non-null  object \n",
            " 15  variation_0_color  10883 non-null  object \n",
            " 16  variation_1_color  10883 non-null  object \n",
            "dtypes: float64(1), int64(2), object(14)\n",
            "memory usage: 2.0+ MB\n"
          ]
        }
      ]
    },
    {
      "cell_type": "code",
      "metadata": {
        "id": "Xt5ODrTZisiM",
        "colab": {
          "base_uri": "https://localhost:8080/",
          "height": 307
        },
        "outputId": "f25b16ee-bcfa-4a0d-cad7-549da9de597c"
      },
      "source": [
        "# menggabungkan tabel brand dengan tabel events dengan brand_ID sebagai key\n",
        "df_brand_new = df_events.merge(df_brand_details, how='left', on='brand_ID')\n",
        "df_brand_new.head()"
      ],
      "execution_count": 44,
      "outputs": [
        {
          "output_type": "execute_result",
          "data": {
            "text/html": [
              "<div>\n",
              "<style scoped>\n",
              "    .dataframe tbody tr th:only-of-type {\n",
              "        vertical-align: middle;\n",
              "    }\n",
              "\n",
              "    .dataframe tbody tr th {\n",
              "        vertical-align: top;\n",
              "    }\n",
              "\n",
              "    .dataframe thead th {\n",
              "        text-align: right;\n",
              "    }\n",
              "</style>\n",
              "<table border=\"1\" class=\"dataframe\">\n",
              "  <thead>\n",
              "    <tr style=\"text-align: right;\">\n",
              "      <th></th>\n",
              "      <th>index_x</th>\n",
              "      <th>ID</th>\n",
              "      <th>sku</th>\n",
              "      <th>image_url</th>\n",
              "      <th>url_area</th>\n",
              "      <th>product_ID</th>\n",
              "      <th>brand_ID</th>\n",
              "      <th>category_ID</th>\n",
              "      <th>subcategory_ID</th>\n",
              "      <th>item_ID</th>\n",
              "      <th>current_price</th>\n",
              "      <th>perc.discount</th>\n",
              "      <th>likes_count</th>\n",
              "      <th>is_new</th>\n",
              "      <th>codCountry</th>\n",
              "      <th>index_y</th>\n",
              "      <th>brand_name</th>\n",
              "    </tr>\n",
              "  </thead>\n",
              "  <tbody>\n",
              "    <tr>\n",
              "      <th>0</th>\n",
              "      <td>0</td>\n",
              "      <td>27788</td>\n",
              "      <td>SKU585926</td>\n",
              "      <td>https://imgaz1.chiccdn.com/thumb/view/oaupload...</td>\n",
              "      <td>https://fr.newchic.com/loskii-wall-art-4619/p-...</td>\n",
              "      <td>4636</td>\n",
              "      <td>120</td>\n",
              "      <td>4</td>\n",
              "      <td>21</td>\n",
              "      <td>4677</td>\n",
              "      <td>21.48 USD</td>\n",
              "      <td>42.0</td>\n",
              "      <td>285</td>\n",
              "      <td>0</td>\n",
              "      <td>ID,MY,PH,SG,TH,VN</td>\n",
              "      <td>119</td>\n",
              "      <td>Loskii</td>\n",
              "    </tr>\n",
              "    <tr>\n",
              "      <th>1</th>\n",
              "      <td>1</td>\n",
              "      <td>42560</td>\n",
              "      <td>SKU028546</td>\n",
              "      <td>https://imgaz1.chiccdn.com/thumb/view/oaupload...</td>\n",
              "      <td>https://fr.newchic.com/plus-size-blouses-and-s...</td>\n",
              "      <td>9862</td>\n",
              "      <td>396</td>\n",
              "      <td>9</td>\n",
              "      <td>98</td>\n",
              "      <td>10372</td>\n",
              "      <td>22.99 USD</td>\n",
              "      <td>65.0</td>\n",
              "      <td>147</td>\n",
              "      <td>0</td>\n",
              "      <td>ID,MY,PH,SG,TH,VN</td>\n",
              "      <td>395</td>\n",
              "      <td>ZANZEA</td>\n",
              "    </tr>\n",
              "    <tr>\n",
              "      <th>2</th>\n",
              "      <td>2</td>\n",
              "      <td>45211</td>\n",
              "      <td>SKU031964</td>\n",
              "      <td>https://imgaz1.chiccdn.com/thumb/view/oaupload...</td>\n",
              "      <td>https://fr.newchic.com/beon-vehicle-supplies-5...</td>\n",
              "      <td>3620</td>\n",
              "      <td>246</td>\n",
              "      <td>4</td>\n",
              "      <td>232</td>\n",
              "      <td>3658</td>\n",
              "      <td>1.59 USD</td>\n",
              "      <td>58.0</td>\n",
              "      <td>1</td>\n",
              "      <td>0</td>\n",
              "      <td>ID,MY,PH,SG,TH,VN</td>\n",
              "      <td>245</td>\n",
              "      <td>BEON</td>\n",
              "    </tr>\n",
              "    <tr>\n",
              "      <th>3</th>\n",
              "      <td>3</td>\n",
              "      <td>48169</td>\n",
              "      <td>SKU037769</td>\n",
              "      <td>https://imgaz1.chiccdn.com/thumb/view/oaupload...</td>\n",
              "      <td>https://fr.newchic.com/y-f-m-face-care-tools-5...</td>\n",
              "      <td>1144</td>\n",
              "      <td>73</td>\n",
              "      <td>3</td>\n",
              "      <td>10</td>\n",
              "      <td>1168</td>\n",
              "      <td>19.03 USD</td>\n",
              "      <td>43.0</td>\n",
              "      <td>500</td>\n",
              "      <td>0</td>\n",
              "      <td>ID,MY,PH,SG,TH,VN</td>\n",
              "      <td>72</td>\n",
              "      <td>Y.F.M</td>\n",
              "    </tr>\n",
              "    <tr>\n",
              "      <th>4</th>\n",
              "      <td>4</td>\n",
              "      <td>51841</td>\n",
              "      <td>SKU039460</td>\n",
              "      <td>https://imgaz1.chiccdn.com/thumb/view/oaupload...</td>\n",
              "      <td>https://fr.newchic.com/t-shirts-3666/p-51841.html</td>\n",
              "      <td>9315</td>\n",
              "      <td>396</td>\n",
              "      <td>9</td>\n",
              "      <td>427</td>\n",
              "      <td>9761</td>\n",
              "      <td>21.99 USD</td>\n",
              "      <td>0.0</td>\n",
              "      <td>251</td>\n",
              "      <td>0</td>\n",
              "      <td>ID,MY,PH,SG,TH,VN</td>\n",
              "      <td>395</td>\n",
              "      <td>ZANZEA</td>\n",
              "    </tr>\n",
              "  </tbody>\n",
              "</table>\n",
              "</div>"
            ],
            "text/plain": [
              "   index_x     ID        sku  ...         codCountry index_y brand_name\n",
              "0        0  27788  SKU585926  ...  ID,MY,PH,SG,TH,VN     119     Loskii\n",
              "1        1  42560  SKU028546  ...  ID,MY,PH,SG,TH,VN     395     ZANZEA\n",
              "2        2  45211  SKU031964  ...  ID,MY,PH,SG,TH,VN     245       BEON\n",
              "3        3  48169  SKU037769  ...  ID,MY,PH,SG,TH,VN      72      Y.F.M\n",
              "4        4  51841  SKU039460  ...  ID,MY,PH,SG,TH,VN     395     ZANZEA\n",
              "\n",
              "[5 rows x 17 columns]"
            ]
          },
          "metadata": {},
          "execution_count": 44
        }
      ]
    },
    {
      "cell_type": "code",
      "metadata": {
        "colab": {
          "base_uri": "https://localhost:8080/",
          "height": 307
        },
        "id": "e0nqXGRIDTg0",
        "outputId": "6567e7f8-4638-4d68-cd9e-4635e49c719a"
      },
      "source": [
        "# menghapus kolom yang dirasa tidak penting\n",
        "df_brand_new.drop(['index_x', 'index_y'], axis=1, inplace=True)\n",
        "df_brand_new.head()"
      ],
      "execution_count": 45,
      "outputs": [
        {
          "output_type": "execute_result",
          "data": {
            "text/html": [
              "<div>\n",
              "<style scoped>\n",
              "    .dataframe tbody tr th:only-of-type {\n",
              "        vertical-align: middle;\n",
              "    }\n",
              "\n",
              "    .dataframe tbody tr th {\n",
              "        vertical-align: top;\n",
              "    }\n",
              "\n",
              "    .dataframe thead th {\n",
              "        text-align: right;\n",
              "    }\n",
              "</style>\n",
              "<table border=\"1\" class=\"dataframe\">\n",
              "  <thead>\n",
              "    <tr style=\"text-align: right;\">\n",
              "      <th></th>\n",
              "      <th>ID</th>\n",
              "      <th>sku</th>\n",
              "      <th>image_url</th>\n",
              "      <th>url_area</th>\n",
              "      <th>product_ID</th>\n",
              "      <th>brand_ID</th>\n",
              "      <th>category_ID</th>\n",
              "      <th>subcategory_ID</th>\n",
              "      <th>item_ID</th>\n",
              "      <th>current_price</th>\n",
              "      <th>perc.discount</th>\n",
              "      <th>likes_count</th>\n",
              "      <th>is_new</th>\n",
              "      <th>codCountry</th>\n",
              "      <th>brand_name</th>\n",
              "    </tr>\n",
              "  </thead>\n",
              "  <tbody>\n",
              "    <tr>\n",
              "      <th>0</th>\n",
              "      <td>27788</td>\n",
              "      <td>SKU585926</td>\n",
              "      <td>https://imgaz1.chiccdn.com/thumb/view/oaupload...</td>\n",
              "      <td>https://fr.newchic.com/loskii-wall-art-4619/p-...</td>\n",
              "      <td>4636</td>\n",
              "      <td>120</td>\n",
              "      <td>4</td>\n",
              "      <td>21</td>\n",
              "      <td>4677</td>\n",
              "      <td>21.48 USD</td>\n",
              "      <td>42.0</td>\n",
              "      <td>285</td>\n",
              "      <td>0</td>\n",
              "      <td>ID,MY,PH,SG,TH,VN</td>\n",
              "      <td>Loskii</td>\n",
              "    </tr>\n",
              "    <tr>\n",
              "      <th>1</th>\n",
              "      <td>42560</td>\n",
              "      <td>SKU028546</td>\n",
              "      <td>https://imgaz1.chiccdn.com/thumb/view/oaupload...</td>\n",
              "      <td>https://fr.newchic.com/plus-size-blouses-and-s...</td>\n",
              "      <td>9862</td>\n",
              "      <td>396</td>\n",
              "      <td>9</td>\n",
              "      <td>98</td>\n",
              "      <td>10372</td>\n",
              "      <td>22.99 USD</td>\n",
              "      <td>65.0</td>\n",
              "      <td>147</td>\n",
              "      <td>0</td>\n",
              "      <td>ID,MY,PH,SG,TH,VN</td>\n",
              "      <td>ZANZEA</td>\n",
              "    </tr>\n",
              "    <tr>\n",
              "      <th>2</th>\n",
              "      <td>45211</td>\n",
              "      <td>SKU031964</td>\n",
              "      <td>https://imgaz1.chiccdn.com/thumb/view/oaupload...</td>\n",
              "      <td>https://fr.newchic.com/beon-vehicle-supplies-5...</td>\n",
              "      <td>3620</td>\n",
              "      <td>246</td>\n",
              "      <td>4</td>\n",
              "      <td>232</td>\n",
              "      <td>3658</td>\n",
              "      <td>1.59 USD</td>\n",
              "      <td>58.0</td>\n",
              "      <td>1</td>\n",
              "      <td>0</td>\n",
              "      <td>ID,MY,PH,SG,TH,VN</td>\n",
              "      <td>BEON</td>\n",
              "    </tr>\n",
              "    <tr>\n",
              "      <th>3</th>\n",
              "      <td>48169</td>\n",
              "      <td>SKU037769</td>\n",
              "      <td>https://imgaz1.chiccdn.com/thumb/view/oaupload...</td>\n",
              "      <td>https://fr.newchic.com/y-f-m-face-care-tools-5...</td>\n",
              "      <td>1144</td>\n",
              "      <td>73</td>\n",
              "      <td>3</td>\n",
              "      <td>10</td>\n",
              "      <td>1168</td>\n",
              "      <td>19.03 USD</td>\n",
              "      <td>43.0</td>\n",
              "      <td>500</td>\n",
              "      <td>0</td>\n",
              "      <td>ID,MY,PH,SG,TH,VN</td>\n",
              "      <td>Y.F.M</td>\n",
              "    </tr>\n",
              "    <tr>\n",
              "      <th>4</th>\n",
              "      <td>51841</td>\n",
              "      <td>SKU039460</td>\n",
              "      <td>https://imgaz1.chiccdn.com/thumb/view/oaupload...</td>\n",
              "      <td>https://fr.newchic.com/t-shirts-3666/p-51841.html</td>\n",
              "      <td>9315</td>\n",
              "      <td>396</td>\n",
              "      <td>9</td>\n",
              "      <td>427</td>\n",
              "      <td>9761</td>\n",
              "      <td>21.99 USD</td>\n",
              "      <td>0.0</td>\n",
              "      <td>251</td>\n",
              "      <td>0</td>\n",
              "      <td>ID,MY,PH,SG,TH,VN</td>\n",
              "      <td>ZANZEA</td>\n",
              "    </tr>\n",
              "  </tbody>\n",
              "</table>\n",
              "</div>"
            ],
            "text/plain": [
              "      ID        sku  ...         codCountry brand_name\n",
              "0  27788  SKU585926  ...  ID,MY,PH,SG,TH,VN     Loskii\n",
              "1  42560  SKU028546  ...  ID,MY,PH,SG,TH,VN     ZANZEA\n",
              "2  45211  SKU031964  ...  ID,MY,PH,SG,TH,VN       BEON\n",
              "3  48169  SKU037769  ...  ID,MY,PH,SG,TH,VN      Y.F.M\n",
              "4  51841  SKU039460  ...  ID,MY,PH,SG,TH,VN     ZANZEA\n",
              "\n",
              "[5 rows x 15 columns]"
            ]
          },
          "metadata": {},
          "execution_count": 45
        }
      ]
    },
    {
      "cell_type": "code",
      "metadata": {
        "id": "dWyHpz2U2bgN",
        "colab": {
          "base_uri": "https://localhost:8080/"
        },
        "outputId": "b3c83378-4125-492c-b9ec-5ea456670220"
      },
      "source": [
        "df_brand_new.info()"
      ],
      "execution_count": 46,
      "outputs": [
        {
          "output_type": "stream",
          "name": "stdout",
          "text": [
            "<class 'pandas.core.frame.DataFrame'>\n",
            "Int64Index: 12944 entries, 0 to 12943\n",
            "Data columns (total 15 columns):\n",
            " #   Column          Non-Null Count  Dtype  \n",
            "---  ------          --------------  -----  \n",
            " 0   ID              12944 non-null  object \n",
            " 1   sku             12944 non-null  object \n",
            " 2   image_url       12944 non-null  object \n",
            " 3   url_area        12944 non-null  object \n",
            " 4   product_ID      12944 non-null  object \n",
            " 5   brand_ID        12944 non-null  object \n",
            " 6   category_ID     12944 non-null  object \n",
            " 7   subcategory_ID  12944 non-null  object \n",
            " 8   item_ID         12944 non-null  object \n",
            " 9   current_price   12944 non-null  object \n",
            " 10  perc.discount   12944 non-null  float64\n",
            " 11  likes_count     12944 non-null  int64  \n",
            " 12  is_new          12944 non-null  object \n",
            " 13  codCountry      12944 non-null  object \n",
            " 14  brand_name      12944 non-null  object \n",
            "dtypes: float64(1), int64(1), object(13)\n",
            "memory usage: 1.6+ MB\n"
          ]
        }
      ]
    },
    {
      "cell_type": "code",
      "metadata": {
        "colab": {
          "base_uri": "https://localhost:8080/"
        },
        "id": "JrNKHTMw-qHd",
        "outputId": "d5082e11-e863-4116-a61a-0fb8aef06233"
      },
      "source": [
        "# menggabungkan tabel brand_new dengan tabel product_new dengan ID sebagai key\n",
        "df = df_product_new.merge(df_brand_new, how='inner', on='ID')\n",
        "df.info()"
      ],
      "execution_count": 47,
      "outputs": [
        {
          "output_type": "stream",
          "name": "stdout",
          "text": [
            "<class 'pandas.core.frame.DataFrame'>\n",
            "Int64Index: 14792 entries, 0 to 14791\n",
            "Data columns (total 31 columns):\n",
            " #   Column             Non-Null Count  Dtype  \n",
            "---  ------             --------------  -----  \n",
            " 0   index              14792 non-null  int64  \n",
            " 1   ID                 14792 non-null  object \n",
            " 2   sku_x              14792 non-null  object \n",
            " 3   image_url_x        14792 non-null  object \n",
            " 4   url_area_x         14792 non-null  object \n",
            " 5   product_ID_x       14792 non-null  object \n",
            " 6   brand_ID_x         14792 non-null  object \n",
            " 7   category_ID_x      14792 non-null  object \n",
            " 8   subcategory_ID_x   14792 non-null  object \n",
            " 9   current_price_x    14792 non-null  object \n",
            " 10  perc.discount_x    14792 non-null  float64\n",
            " 11  likes_count_x      14792 non-null  int64  \n",
            " 12  is_new_x           14792 non-null  object \n",
            " 13  codCountry_x       14792 non-null  object \n",
            " 14  product_name       14792 non-null  object \n",
            " 15  variation_0_color  10883 non-null  object \n",
            " 16  variation_1_color  10883 non-null  object \n",
            " 17  sku_y              14792 non-null  object \n",
            " 18  image_url_y        14792 non-null  object \n",
            " 19  url_area_y         14792 non-null  object \n",
            " 20  product_ID_y       14792 non-null  object \n",
            " 21  brand_ID_y         14792 non-null  object \n",
            " 22  category_ID_y      14792 non-null  object \n",
            " 23  subcategory_ID_y   14792 non-null  object \n",
            " 24  item_ID            14792 non-null  object \n",
            " 25  current_price_y    14792 non-null  object \n",
            " 26  perc.discount_y    14792 non-null  float64\n",
            " 27  likes_count_y      14792 non-null  int64  \n",
            " 28  is_new_y           14792 non-null  object \n",
            " 29  codCountry_y       14792 non-null  object \n",
            " 30  brand_name         14792 non-null  object \n",
            "dtypes: float64(2), int64(3), object(26)\n",
            "memory usage: 3.6+ MB\n"
          ]
        }
      ]
    },
    {
      "cell_type": "code",
      "metadata": {
        "colab": {
          "base_uri": "https://localhost:8080/",
          "height": 526
        },
        "id": "JvhOQgqX_oCr",
        "outputId": "b8566511-5155-41c6-c148-e65d6d86d667"
      },
      "source": [
        "# menghapus kolom yang dirasa tidak penting\n",
        "df.drop(['image_url_x','url_area_x', 'sku_y', 'image_url_y', 'url_area_y', 'product_ID_y', 'brand_ID_y', 'category_ID_y', 'subcategory_ID_y', 'current_price_y', 'perc.discount_y', 'likes_count_y', 'is_new_y', 'codCountry_y'], axis=1, inplace=True)\n",
        "df.head()"
      ],
      "execution_count": 48,
      "outputs": [
        {
          "output_type": "execute_result",
          "data": {
            "text/html": [
              "<div>\n",
              "<style scoped>\n",
              "    .dataframe tbody tr th:only-of-type {\n",
              "        vertical-align: middle;\n",
              "    }\n",
              "\n",
              "    .dataframe tbody tr th {\n",
              "        vertical-align: top;\n",
              "    }\n",
              "\n",
              "    .dataframe thead th {\n",
              "        text-align: right;\n",
              "    }\n",
              "</style>\n",
              "<table border=\"1\" class=\"dataframe\">\n",
              "  <thead>\n",
              "    <tr style=\"text-align: right;\">\n",
              "      <th></th>\n",
              "      <th>index</th>\n",
              "      <th>ID</th>\n",
              "      <th>sku_x</th>\n",
              "      <th>product_ID_x</th>\n",
              "      <th>brand_ID_x</th>\n",
              "      <th>category_ID_x</th>\n",
              "      <th>subcategory_ID_x</th>\n",
              "      <th>current_price_x</th>\n",
              "      <th>perc.discount_x</th>\n",
              "      <th>likes_count_x</th>\n",
              "      <th>is_new_x</th>\n",
              "      <th>codCountry_x</th>\n",
              "      <th>product_name</th>\n",
              "      <th>variation_0_color</th>\n",
              "      <th>variation_1_color</th>\n",
              "      <th>item_ID</th>\n",
              "      <th>brand_name</th>\n",
              "    </tr>\n",
              "  </thead>\n",
              "  <tbody>\n",
              "    <tr>\n",
              "      <th>0</th>\n",
              "      <td>0</td>\n",
              "      <td>27788</td>\n",
              "      <td>SKU585926</td>\n",
              "      <td>4636</td>\n",
              "      <td>120</td>\n",
              "      <td>4</td>\n",
              "      <td>21</td>\n",
              "      <td>21.48 USD</td>\n",
              "      <td>42.0</td>\n",
              "      <td>285</td>\n",
              "      <td>0</td>\n",
              "      <td>ID,MY,PH,SG,TH,VN</td>\n",
              "      <td>Mesure verticale horizontale de laser de nivea...</td>\n",
              "      <td>NaN</td>\n",
              "      <td>NaN</td>\n",
              "      <td>4677</td>\n",
              "      <td>Loskii</td>\n",
              "    </tr>\n",
              "    <tr>\n",
              "      <th>1</th>\n",
              "      <td>1</td>\n",
              "      <td>42560</td>\n",
              "      <td>SKU028546</td>\n",
              "      <td>9862</td>\n",
              "      <td>396</td>\n",
              "      <td>9</td>\n",
              "      <td>98</td>\n",
              "      <td>22.99 USD</td>\n",
              "      <td>65.0</td>\n",
              "      <td>147</td>\n",
              "      <td>0</td>\n",
              "      <td>ID,MY,PH,SG,TH,VN</td>\n",
              "      <td>Chemises élégantes de dentelle de patchwork</td>\n",
              "      <td>Noir</td>\n",
              "      <td>blanc</td>\n",
              "      <td>10372</td>\n",
              "      <td>ZANZEA</td>\n",
              "    </tr>\n",
              "    <tr>\n",
              "      <th>2</th>\n",
              "      <td>2</td>\n",
              "      <td>45211</td>\n",
              "      <td>SKU031964</td>\n",
              "      <td>3620</td>\n",
              "      <td>246</td>\n",
              "      <td>4</td>\n",
              "      <td>232</td>\n",
              "      <td>1.59 USD</td>\n",
              "      <td>58.0</td>\n",
              "      <td>1</td>\n",
              "      <td>0</td>\n",
              "      <td>ID,MY,PH,SG,TH,VN</td>\n",
              "      <td>Filtre à essence liquide universel pour essenc...</td>\n",
              "      <td>NaN</td>\n",
              "      <td>NaN</td>\n",
              "      <td>3658</td>\n",
              "      <td>BEON</td>\n",
              "    </tr>\n",
              "    <tr>\n",
              "      <th>3</th>\n",
              "      <td>3</td>\n",
              "      <td>48169</td>\n",
              "      <td>SKU037769</td>\n",
              "      <td>1144</td>\n",
              "      <td>73</td>\n",
              "      <td>3</td>\n",
              "      <td>10</td>\n",
              "      <td>19.03 USD</td>\n",
              "      <td>43.0</td>\n",
              "      <td>500</td>\n",
              "      <td>0</td>\n",
              "      <td>ID,MY,PH,SG,TH,VN</td>\n",
              "      <td>Rouleau de peau YFM pour les rides cicatrices ...</td>\n",
              "      <td>NaN</td>\n",
              "      <td>NaN</td>\n",
              "      <td>1168</td>\n",
              "      <td>Y.F.M</td>\n",
              "    </tr>\n",
              "    <tr>\n",
              "      <th>4</th>\n",
              "      <td>4</td>\n",
              "      <td>51841</td>\n",
              "      <td>SKU039460</td>\n",
              "      <td>9315</td>\n",
              "      <td>396</td>\n",
              "      <td>9</td>\n",
              "      <td>427</td>\n",
              "      <td>21.99 USD</td>\n",
              "      <td>0.0</td>\n",
              "      <td>251</td>\n",
              "      <td>0</td>\n",
              "      <td>ID,MY,PH,SG,TH,VN</td>\n",
              "      <td>Sweat à capuche à manches longues à manches lo...</td>\n",
              "      <td>NaN</td>\n",
              "      <td>NaN</td>\n",
              "      <td>9761</td>\n",
              "      <td>ZANZEA</td>\n",
              "    </tr>\n",
              "  </tbody>\n",
              "</table>\n",
              "</div>"
            ],
            "text/plain": [
              "   index     ID      sku_x  ... variation_1_color item_ID brand_name\n",
              "0      0  27788  SKU585926  ...               NaN    4677     Loskii\n",
              "1      1  42560  SKU028546  ...             blanc   10372     ZANZEA\n",
              "2      2  45211  SKU031964  ...               NaN    3658       BEON\n",
              "3      3  48169  SKU037769  ...               NaN    1168      Y.F.M\n",
              "4      4  51841  SKU039460  ...               NaN    9761     ZANZEA\n",
              "\n",
              "[5 rows x 17 columns]"
            ]
          },
          "metadata": {},
          "execution_count": 48
        }
      ]
    },
    {
      "cell_type": "code",
      "metadata": {
        "colab": {
          "base_uri": "https://localhost:8080/"
        },
        "id": "hxI_xNz3IU6y",
        "outputId": "616aae40-f181-4b88-d4fe-33395d98af1e"
      },
      "source": [
        "df.info()"
      ],
      "execution_count": 49,
      "outputs": [
        {
          "output_type": "stream",
          "name": "stdout",
          "text": [
            "<class 'pandas.core.frame.DataFrame'>\n",
            "Int64Index: 14792 entries, 0 to 14791\n",
            "Data columns (total 17 columns):\n",
            " #   Column             Non-Null Count  Dtype  \n",
            "---  ------             --------------  -----  \n",
            " 0   index              14792 non-null  int64  \n",
            " 1   ID                 14792 non-null  object \n",
            " 2   sku_x              14792 non-null  object \n",
            " 3   product_ID_x       14792 non-null  object \n",
            " 4   brand_ID_x         14792 non-null  object \n",
            " 5   category_ID_x      14792 non-null  object \n",
            " 6   subcategory_ID_x   14792 non-null  object \n",
            " 7   current_price_x    14792 non-null  object \n",
            " 8   perc.discount_x    14792 non-null  float64\n",
            " 9   likes_count_x      14792 non-null  int64  \n",
            " 10  is_new_x           14792 non-null  object \n",
            " 11  codCountry_x       14792 non-null  object \n",
            " 12  product_name       14792 non-null  object \n",
            " 13  variation_0_color  10883 non-null  object \n",
            " 14  variation_1_color  10883 non-null  object \n",
            " 15  item_ID            14792 non-null  object \n",
            " 16  brand_name         14792 non-null  object \n",
            "dtypes: float64(1), int64(2), object(14)\n",
            "memory usage: 2.0+ MB\n"
          ]
        }
      ]
    },
    {
      "cell_type": "code",
      "metadata": {
        "colab": {
          "base_uri": "https://localhost:8080/"
        },
        "id": "YSnattw8cwBs",
        "outputId": "feeb2bcf-2b69-48ac-bd97-643d8266bcc8"
      },
      "source": [
        "df_product_new.groupby(by=['is_new', 'product_name'], dropna=False).count()['ID']"
      ],
      "execution_count": 50,
      "outputs": [
        {
          "output_type": "execute_result",
          "data": {
            "text/plain": [
              "is_new  product_name                                                         \n",
              "0         Bouteille d'huile en acier inoxydable                                  1\n",
              "          UACY 180cm * 90cm Impression foulard de plage été châle                1\n",
              "         100pcs / pack de graines d'alto                                         1\n",
              "         100pcs / sac de graines d'olive                                         1\n",
              "         12pcs autocollants muraux de miroir sexangle bricolage argent mignon    1\n",
              "                                                                                ..\n",
              "1       Vêtement d'intérieur rayé à col en V                                     1\n",
              "        Vêtement d'intérieur à col en V à imprimé floral                         1\n",
              "        Vêtements de nuit sans manches respirants unis                           1\n",
              "        Yoga Pantalon Bloomers Gymnastique                                       1\n",
              "        Écouteurs intra-auriculaires sans fil Bluetooth                          1\n",
              "Name: ID, Length: 12259, dtype: int64"
            ]
          },
          "metadata": {},
          "execution_count": 50
        }
      ]
    },
    {
      "cell_type": "code",
      "metadata": {
        "colab": {
          "base_uri": "https://localhost:8080/",
          "height": 442
        },
        "id": "YL2AKXnNMqyn",
        "outputId": "774c78e9-035a-490a-f365-258e8a75486f"
      },
      "source": [
        "# mencoba melihat 5 produk teratas\n",
        "df.sort_values(['product_name'], ascending=False, axis=0, inplace=True)\n",
        "product_top5 = df.head()\n",
        "product_top5.head()"
      ],
      "execution_count": 51,
      "outputs": [
        {
          "output_type": "execute_result",
          "data": {
            "text/html": [
              "<div>\n",
              "<style scoped>\n",
              "    .dataframe tbody tr th:only-of-type {\n",
              "        vertical-align: middle;\n",
              "    }\n",
              "\n",
              "    .dataframe tbody tr th {\n",
              "        vertical-align: top;\n",
              "    }\n",
              "\n",
              "    .dataframe thead th {\n",
              "        text-align: right;\n",
              "    }\n",
              "</style>\n",
              "<table border=\"1\" class=\"dataframe\">\n",
              "  <thead>\n",
              "    <tr style=\"text-align: right;\">\n",
              "      <th></th>\n",
              "      <th>index</th>\n",
              "      <th>ID</th>\n",
              "      <th>sku_x</th>\n",
              "      <th>product_ID_x</th>\n",
              "      <th>brand_ID_x</th>\n",
              "      <th>category_ID_x</th>\n",
              "      <th>subcategory_ID_x</th>\n",
              "      <th>current_price_x</th>\n",
              "      <th>perc.discount_x</th>\n",
              "      <th>likes_count_x</th>\n",
              "      <th>is_new_x</th>\n",
              "      <th>codCountry_x</th>\n",
              "      <th>product_name</th>\n",
              "      <th>variation_0_color</th>\n",
              "      <th>variation_1_color</th>\n",
              "      <th>item_ID</th>\n",
              "      <th>brand_name</th>\n",
              "    </tr>\n",
              "  </thead>\n",
              "  <tbody>\n",
              "    <tr>\n",
              "      <th>6716</th>\n",
              "      <td>7254</td>\n",
              "      <td>1440316</td>\n",
              "      <td>SKUB49125</td>\n",
              "      <td>7990</td>\n",
              "      <td>378</td>\n",
              "      <td>8</td>\n",
              "      <td>353</td>\n",
              "      <td>33.5 USD</td>\n",
              "      <td>49.0</td>\n",
              "      <td>178</td>\n",
              "      <td>0</td>\n",
              "      <td>ID,MY,PH,SG,TH,VN</td>\n",
              "      <td>Évider étoile sandales romaines</td>\n",
              "      <td>Or</td>\n",
              "      <td>Noir</td>\n",
              "      <td>8278</td>\n",
              "      <td>Lostisy</td>\n",
              "    </tr>\n",
              "    <tr>\n",
              "      <th>6835</th>\n",
              "      <td>7377</td>\n",
              "      <td>1447215</td>\n",
              "      <td>SKUB60889</td>\n",
              "      <td>8086</td>\n",
              "      <td>378</td>\n",
              "      <td>8</td>\n",
              "      <td>142</td>\n",
              "      <td>28.4 USD</td>\n",
              "      <td>58.0</td>\n",
              "      <td>221</td>\n",
              "      <td>0</td>\n",
              "      <td>ID,MY,PH,SG,TH,VN</td>\n",
              "      <td>Évider réglable Soft appartements</td>\n",
              "      <td>gris</td>\n",
              "      <td>marron</td>\n",
              "      <td>8380</td>\n",
              "      <td>Lostisy</td>\n",
              "    </tr>\n",
              "    <tr>\n",
              "      <th>8110</th>\n",
              "      <td>8530</td>\n",
              "      <td>1525896</td>\n",
              "      <td>SKUC82984</td>\n",
              "      <td>359</td>\n",
              "      <td>18</td>\n",
              "      <td>2</td>\n",
              "      <td>335</td>\n",
              "      <td>19.06 USD</td>\n",
              "      <td>51.0</td>\n",
              "      <td>493</td>\n",
              "      <td>0</td>\n",
              "      <td>ID,MY,PH,SG,TH,VN</td>\n",
              "      <td>Évider petit sac de téléphone irrégulière</td>\n",
              "      <td>Black</td>\n",
              "      <td>Brown</td>\n",
              "      <td>362</td>\n",
              "      <td>Brenice</td>\n",
              "    </tr>\n",
              "    <tr>\n",
              "      <th>231</th>\n",
              "      <td>247</td>\n",
              "      <td>1048468</td>\n",
              "      <td>SKU391819</td>\n",
              "      <td>3163</td>\n",
              "      <td>61</td>\n",
              "      <td>4</td>\n",
              "      <td>86</td>\n",
              "      <td>5.76 USD</td>\n",
              "      <td>63.0</td>\n",
              "      <td>24</td>\n",
              "      <td>0</td>\n",
              "      <td>TH</td>\n",
              "      <td>Évent d'air de voiture magnétique renforcé en ...</td>\n",
              "      <td>NaN</td>\n",
              "      <td>NaN</td>\n",
              "      <td>3201</td>\n",
              "      <td>BlitzWolf</td>\n",
              "    </tr>\n",
              "    <tr>\n",
              "      <th>4186</th>\n",
              "      <td>4626</td>\n",
              "      <td>1341773</td>\n",
              "      <td>SKUA24950</td>\n",
              "      <td>4857</td>\n",
              "      <td>12</td>\n",
              "      <td>4</td>\n",
              "      <td>51</td>\n",
              "      <td>12.99 USD</td>\n",
              "      <td>57.0</td>\n",
              "      <td>7</td>\n",
              "      <td>0</td>\n",
              "      <td>ID,MY,PH,SG,TH,VN</td>\n",
              "      <td>Étui à crayons en PP transparent de couleur un...</td>\n",
              "      <td>NaN</td>\n",
              "      <td>NaN</td>\n",
              "      <td>4898</td>\n",
              "      <td>XIAOMI</td>\n",
              "    </tr>\n",
              "  </tbody>\n",
              "</table>\n",
              "</div>"
            ],
            "text/plain": [
              "      index       ID      sku_x  ... variation_1_color item_ID brand_name\n",
              "6716   7254  1440316  SKUB49125  ...              Noir    8278    Lostisy\n",
              "6835   7377  1447215  SKUB60889  ...            marron    8380    Lostisy\n",
              "8110   8530  1525896  SKUC82984  ...             Brown     362    Brenice\n",
              "231     247  1048468  SKU391819  ...               NaN    3201  BlitzWolf\n",
              "4186   4626  1341773  SKUA24950  ...               NaN    4898     XIAOMI\n",
              "\n",
              "[5 rows x 17 columns]"
            ]
          },
          "metadata": {},
          "execution_count": 51
        }
      ]
    },
    {
      "cell_type": "code",
      "metadata": {
        "colab": {
          "base_uri": "https://localhost:8080/"
        },
        "id": "_KaOp49aEIms",
        "outputId": "b50c7f0d-751a-43d1-83b4-e9de4250e23f"
      },
      "source": [
        "df['ID'].count()"
      ],
      "execution_count": 55,
      "outputs": [
        {
          "output_type": "execute_result",
          "data": {
            "text/plain": [
              "14792"
            ]
          },
          "metadata": {},
          "execution_count": 55
        }
      ]
    },
    {
      "cell_type": "markdown",
      "metadata": {
        "id": "EuyGCbzwL3Ny"
      },
      "source": [
        "Export ke csv"
      ]
    },
    {
      "cell_type": "code",
      "metadata": {
        "id": "wIsrtdvpVo3p"
      },
      "source": [
        "#df.to_csv(r'/content/drive/MyDrive/Narasio/dataframe.csv', index=False, header=True)"
      ],
      "execution_count": 52,
      "outputs": []
    }
  ]
}